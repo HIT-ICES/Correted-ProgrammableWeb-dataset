{
 "cells": [
  {
   "cell_type": "code",
   "execution_count": 1,
   "metadata": {
    "collapsed": true,
    "pycharm": {
     "name": "#%%\n"
    }
   },
   "outputs": [],
   "source": [
    "from matplotlib import pyplot as plt\n",
    "import numpy as np\n",
    "import pandas as pd\n",
    "import json\n",
    "from pyecharts.charts import Pie\n",
    "from pyecharts import options as opts"
   ]
  },
  {
   "cell_type": "code",
   "execution_count": 2,
   "outputs": [],
   "source": [
    "base_path = './estimators/'"
   ],
   "metadata": {
    "collapsed": false,
    "pycharm": {
     "name": "#%%\n"
    }
   }
  },
  {
   "cell_type": "code",
   "execution_count": 3,
   "outputs": [],
   "source": [
    "def build_mashup_apis():\n",
    "    with open(base_path + 'split_nodes.csv', 'r', encoding='utf-8') as file:\n",
    "        splits_c = pd.read_csv(file, encoding='utf-8')\n",
    "\n",
    "    with open(base_path + 'm-a_edges.csv', 'r', encoding='utf-8') as file:\n",
    "        edges = pd.read_csv(file, encoding='utf-8')\n",
    "\n",
    "    with open(base_path + 'split_nodes.csv', 'r', encoding='utf-8') as file:\n",
    "        split_ndoes = pd.read_csv(file, encoding='utf-8')\n",
    "\n",
    "    with open(base_path + 'tranfer_nodes.csv', 'r', encoding='utf-8') as file:\n",
    "        trans_nodes = pd.read_csv(file, encoding='utf-8')\n",
    "\n",
    "    with open(base_path + 'api_nodes_estimator.csv', 'r', encoding='utf-8') as file:\n",
    "        apis_c = pd.read_csv(file, encoding='utf-8', parse_dates=['st', 'et', 'oet'])\n",
    "    apis_c = apis_c.rename(columns={'url': 'a_url', 'name': 'a_name', 'st': 'a_st', 'et': 'a_et', 'oet': 'a_oet', 'c': 'a_c', 'oac': 'a_oac', 'ac': 'a_ac'})\n",
    "\n",
    "    with open(base_path + 'mashup_nodes_estimator2.csv', 'r', encoding='utf-8') as file:\n",
    "        mashups_c = pd.read_csv(file, encoding='utf-8', parse_dates=['st', 'et', 'oet'])\n",
    "        # mashups_c = mashups_c[mashups_c['tp'] == 'mashup']    # 这个版本的文件有问题，所以不要用这个去筛选\n",
    "        mashups_c = mashups_c[mashups_c['oac'] == True]\n",
    "\n",
    "    mashups_api = pd.merge(mashups_c, edges, how='left', left_on='name', right_on='source')\n",
    "    # 删除source列，因为跟name是一样的\n",
    "    mashups_api = mashups_api.drop(columns=['source'])\n",
    "    # 更名\n",
    "    mashups_api = mashups_api.rename(columns={'target': 'ra'})    # related api\n",
    "\n",
    "    mashups_api = pd.merge(mashups_api, split_ndoes, how='left', left_on='ra', right_on='source')\n",
    "    mashups_api = mashups_api.drop(columns=['source'])\n",
    "    mashups_api = mashups_api.rename(columns={'target': 'sta'})    # split target api\n",
    "\n",
    "    mashups_api = pd.merge(mashups_api, trans_nodes, how='left', left_on='ra', right_on='source')\n",
    "    mashups_api = mashups_api.drop(columns=['source'])\n",
    "    mashups_api = mashups_api.rename(columns={'target': 'tta'})    # transfer target api\n",
    "    # 将API的详细信息连接进去\n",
    "    mashups_api = pd.merge(mashups_api, apis_c, how='left', left_on='ra', right_on='a_url')\n",
    "    mashups_api = mashups_api.drop(columns=['a_url'])\n",
    "\n",
    "    return mashups_api\n",
    "\n"
   ],
   "metadata": {
    "collapsed": false,
    "pycharm": {
     "name": "#%%\n"
    }
   }
  },
  {
   "cell_type": "code",
   "execution_count": 4,
   "outputs": [
    {
     "name": "stdout",
     "output_type": "stream",
     "text": [
      "43\n",
      "                   source                              target\n",
      "0  /api/google-app-engine        /api/google-app-engine-admin\n",
      "1  /api/google-app-engine   /api/google-app-engine-task-queue\n",
      "2  /api/google-app-engine  /api/google-cloud-app-engine-tasks\n",
      "3  /api/google-app-engine    /api/google-app-engine-admin-rpc\n",
      "4        /api/google-maps             /api/google-static-maps\n",
      "12614\n",
      "                                              source  \\\n",
      "0                                Mashup: CouponRoots   \n",
      "1                            Mashup: Raise the Money   \n",
      "2                             Mashup: AnythingToHTML   \n",
      "3                                Mashup: Velocipedia   \n",
      "4  Mashup: Api Expert - MyMemory Language Translator   \n",
      "\n",
      "                                  target  \n",
      "0                            /api/coupon  \n",
      "1                     /api/nationbuilder  \n",
      "2  /api/hpe-haven-ondemand-view-document  \n",
      "3                            /api/mapbox  \n",
      "4                          /api/mymemory  \n",
      "43\n",
      "                   source                              target\n",
      "0  /api/google-app-engine        /api/google-app-engine-admin\n",
      "1  /api/google-app-engine   /api/google-app-engine-task-queue\n",
      "2  /api/google-app-engine  /api/google-cloud-app-engine-tasks\n",
      "3  /api/google-app-engine    /api/google-app-engine-admin-rpc\n",
      "4        /api/google-maps             /api/google-static-maps\n",
      "17\n",
      "                 source                               target\n",
      "0  /api/weather-channel       /api/weather-company-data-core\n",
      "1        /api/silverpop  /api/ibm-watson-customer-engagement\n",
      "2         /api/blockrio                        /api/coinbase\n",
      "3  /api/mondo-web-hooks                           /api/monzo\n",
      "4   /api/gunbroker-soap                       /api/gunbroker\n",
      "23579\n",
      "    tp                        a_url                                    a_name  \\\n",
      "0  api       /api/pinnaclecart-rest       PinnacleCart REST API MASTER RECORD   \n",
      "1  api  /api/volusion-shopping-cart  Volusion Shopping Cart API MASTER RECORD   \n",
      "2  api                 /api/untappd                 Untappd API MASTER RECORD   \n",
      "3  api                  /api/envato                  Envato API MASTER RECORD   \n",
      "4  api        /api/edrv-ev-charging        eDRV EV Charging API MASTER RECORD   \n",
      "\n",
      "        a_st       a_et      a_oet        a_c  a_oac   a_ac  \n",
      "0 2011-01-25 2013-06-29 2222-02-22  eCommerce   True  False  \n",
      "1 2012-06-14 2016-06-20 2222-02-22  eCommerce   True  False  \n",
      "2 2010-12-21 2222-02-22 2222-02-22       Food   True   True  \n",
      "3 2011-03-02 2012-12-03 2222-02-22  eCommerce   True  False  \n",
      "4 2020-07-29 2020-07-29 2222-02-22     Energy   True  False  \n",
      "33475\n",
      "33475\n"
     ]
    }
   ],
   "source": [
    "mashups_api = build_mashup_apis()\n",
    "# 确保所有都是oac=True的 Mashup\n",
    "print(len(mashups_api))\n",
    "mashups_api = mashups_api[mashups_api['oac'] == True]   # 筛选出PW上标记为活的mashup\n",
    "print(len(mashups_api))"
   ],
   "metadata": {
    "collapsed": false,
    "pycharm": {
     "name": "#%%\n"
    }
   }
  },
  {
   "cell_type": "code",
   "execution_count": 14,
   "outputs": [
    {
     "data": {
      "text/plain": "                                                   tp_x  url  st  et  oet   c  \\\nname                                                                            \nMashup: #API Christmas                                1    1   1   1    1   1   \nMashup: #Ask4Stuff: WorldCat Twitter Search           4    4   4   4    4   4   \nMashup: #BeerMap - The Top 2,500 Beers on Twitter    14   14  14  14   14  14   \nMashup: #LinS Stats on Your LinkedIn Social Graph     2    2   2   2    2   2   \nMashup: #S42AT                                        9    9   9   9    9   9   \n...                                                 ...  ...  ..  ..  ...  ..   \nMashup: youbeQ - Maps with Life                      14   14  14  14   14  14   \nMashup: youniversus                                   1    1   1   1    1   1   \nMashup: youwerecute                                  10   10  10  10   10  10   \nMashup: ytwebservice                                  1    1   1   1    1   1   \nMashup: zangoa                                       10   10  10  10   10  10   \n\n                                                   oac  ac  ra  sta  tta  \\\nname                                                                       \nMashup: #API Christmas                               1   1   1    0    0   \nMashup: #Ask4Stuff: WorldCat Twitter Search          4   4   4    3    0   \nMashup: #BeerMap - The Top 2,500 Beers on Twitter   14  14  14   13    0   \nMashup: #LinS Stats on Your LinkedIn Social Graph    2   2   2    0    0   \nMashup: #S42AT                                       9   9   9    7    0   \n...                                                ...  ..  ..  ...  ...   \nMashup: youbeQ - Maps with Life                     14  14  14   10    0   \nMashup: youniversus                                  1   1   1    0    0   \nMashup: youwerecute                                 10  10  10   10    0   \nMashup: ytwebservice                                 1   1   1    0    0   \nMashup: zangoa                                      10  10  10   10    0   \n\n                                                   tp_y  a_name  a_st  a_et  \\\nname                                                                          \nMashup: #API Christmas                                1       1     1     1   \nMashup: #Ask4Stuff: WorldCat Twitter Search           4       4     4     4   \nMashup: #BeerMap - The Top 2,500 Beers on Twitter    14      14    14    14   \nMashup: #LinS Stats on Your LinkedIn Social Graph     2       2     2     2   \nMashup: #S42AT                                        9       9     9     9   \n...                                                 ...     ...   ...   ...   \nMashup: youbeQ - Maps with Life                      14      14    14    14   \nMashup: youniversus                                   1       1     1     1   \nMashup: youwerecute                                  10      10    10    10   \nMashup: ytwebservice                                  1       1     1     1   \nMashup: zangoa                                       10      10    10    10   \n\n                                                   a_oet  a_c  a_oac  a_ac  \nname                                                                        \nMashup: #API Christmas                                 1    1      1     1  \nMashup: #Ask4Stuff: WorldCat Twitter Search            4    4      4     4  \nMashup: #BeerMap - The Top 2,500 Beers on Twitter     14   14     14    14  \nMashup: #LinS Stats on Your LinkedIn Social Graph      2    2      2     2  \nMashup: #S42AT                                         9    9      9     9  \n...                                                  ...  ...    ...   ...  \nMashup: youbeQ - Maps with Life                       14   14     14    14  \nMashup: youniversus                                    1    1      1     1  \nMashup: youwerecute                                   10   10     10    10  \nMashup: ytwebservice                                   1    1      1     1  \nMashup: zangoa                                        10   10     10    10  \n\n[6247 rows x 19 columns]",
      "text/html": "<div>\n<style scoped>\n    .dataframe tbody tr th:only-of-type {\n        vertical-align: middle;\n    }\n\n    .dataframe tbody tr th {\n        vertical-align: top;\n    }\n\n    .dataframe thead th {\n        text-align: right;\n    }\n</style>\n<table border=\"1\" class=\"dataframe\">\n  <thead>\n    <tr style=\"text-align: right;\">\n      <th></th>\n      <th>tp_x</th>\n      <th>url</th>\n      <th>st</th>\n      <th>et</th>\n      <th>oet</th>\n      <th>c</th>\n      <th>oac</th>\n      <th>ac</th>\n      <th>ra</th>\n      <th>sta</th>\n      <th>tta</th>\n      <th>tp_y</th>\n      <th>a_name</th>\n      <th>a_st</th>\n      <th>a_et</th>\n      <th>a_oet</th>\n      <th>a_c</th>\n      <th>a_oac</th>\n      <th>a_ac</th>\n    </tr>\n    <tr>\n      <th>name</th>\n      <th></th>\n      <th></th>\n      <th></th>\n      <th></th>\n      <th></th>\n      <th></th>\n      <th></th>\n      <th></th>\n      <th></th>\n      <th></th>\n      <th></th>\n      <th></th>\n      <th></th>\n      <th></th>\n      <th></th>\n      <th></th>\n      <th></th>\n      <th></th>\n      <th></th>\n    </tr>\n  </thead>\n  <tbody>\n    <tr>\n      <th>Mashup: #API Christmas</th>\n      <td>1</td>\n      <td>1</td>\n      <td>1</td>\n      <td>1</td>\n      <td>1</td>\n      <td>1</td>\n      <td>1</td>\n      <td>1</td>\n      <td>1</td>\n      <td>0</td>\n      <td>0</td>\n      <td>1</td>\n      <td>1</td>\n      <td>1</td>\n      <td>1</td>\n      <td>1</td>\n      <td>1</td>\n      <td>1</td>\n      <td>1</td>\n    </tr>\n    <tr>\n      <th>Mashup: #Ask4Stuff: WorldCat Twitter Search</th>\n      <td>4</td>\n      <td>4</td>\n      <td>4</td>\n      <td>4</td>\n      <td>4</td>\n      <td>4</td>\n      <td>4</td>\n      <td>4</td>\n      <td>4</td>\n      <td>3</td>\n      <td>0</td>\n      <td>4</td>\n      <td>4</td>\n      <td>4</td>\n      <td>4</td>\n      <td>4</td>\n      <td>4</td>\n      <td>4</td>\n      <td>4</td>\n    </tr>\n    <tr>\n      <th>Mashup: #BeerMap - The Top 2,500 Beers on Twitter</th>\n      <td>14</td>\n      <td>14</td>\n      <td>14</td>\n      <td>14</td>\n      <td>14</td>\n      <td>14</td>\n      <td>14</td>\n      <td>14</td>\n      <td>14</td>\n      <td>13</td>\n      <td>0</td>\n      <td>14</td>\n      <td>14</td>\n      <td>14</td>\n      <td>14</td>\n      <td>14</td>\n      <td>14</td>\n      <td>14</td>\n      <td>14</td>\n    </tr>\n    <tr>\n      <th>Mashup: #LinS Stats on Your LinkedIn Social Graph</th>\n      <td>2</td>\n      <td>2</td>\n      <td>2</td>\n      <td>2</td>\n      <td>2</td>\n      <td>2</td>\n      <td>2</td>\n      <td>2</td>\n      <td>2</td>\n      <td>0</td>\n      <td>0</td>\n      <td>2</td>\n      <td>2</td>\n      <td>2</td>\n      <td>2</td>\n      <td>2</td>\n      <td>2</td>\n      <td>2</td>\n      <td>2</td>\n    </tr>\n    <tr>\n      <th>Mashup: #S42AT</th>\n      <td>9</td>\n      <td>9</td>\n      <td>9</td>\n      <td>9</td>\n      <td>9</td>\n      <td>9</td>\n      <td>9</td>\n      <td>9</td>\n      <td>9</td>\n      <td>7</td>\n      <td>0</td>\n      <td>9</td>\n      <td>9</td>\n      <td>9</td>\n      <td>9</td>\n      <td>9</td>\n      <td>9</td>\n      <td>9</td>\n      <td>9</td>\n    </tr>\n    <tr>\n      <th>...</th>\n      <td>...</td>\n      <td>...</td>\n      <td>...</td>\n      <td>...</td>\n      <td>...</td>\n      <td>...</td>\n      <td>...</td>\n      <td>...</td>\n      <td>...</td>\n      <td>...</td>\n      <td>...</td>\n      <td>...</td>\n      <td>...</td>\n      <td>...</td>\n      <td>...</td>\n      <td>...</td>\n      <td>...</td>\n      <td>...</td>\n      <td>...</td>\n    </tr>\n    <tr>\n      <th>Mashup: youbeQ - Maps with Life</th>\n      <td>14</td>\n      <td>14</td>\n      <td>14</td>\n      <td>14</td>\n      <td>14</td>\n      <td>14</td>\n      <td>14</td>\n      <td>14</td>\n      <td>14</td>\n      <td>10</td>\n      <td>0</td>\n      <td>14</td>\n      <td>14</td>\n      <td>14</td>\n      <td>14</td>\n      <td>14</td>\n      <td>14</td>\n      <td>14</td>\n      <td>14</td>\n    </tr>\n    <tr>\n      <th>Mashup: youniversus</th>\n      <td>1</td>\n      <td>1</td>\n      <td>1</td>\n      <td>1</td>\n      <td>1</td>\n      <td>1</td>\n      <td>1</td>\n      <td>1</td>\n      <td>1</td>\n      <td>0</td>\n      <td>0</td>\n      <td>1</td>\n      <td>1</td>\n      <td>1</td>\n      <td>1</td>\n      <td>1</td>\n      <td>1</td>\n      <td>1</td>\n      <td>1</td>\n    </tr>\n    <tr>\n      <th>Mashup: youwerecute</th>\n      <td>10</td>\n      <td>10</td>\n      <td>10</td>\n      <td>10</td>\n      <td>10</td>\n      <td>10</td>\n      <td>10</td>\n      <td>10</td>\n      <td>10</td>\n      <td>10</td>\n      <td>0</td>\n      <td>10</td>\n      <td>10</td>\n      <td>10</td>\n      <td>10</td>\n      <td>10</td>\n      <td>10</td>\n      <td>10</td>\n      <td>10</td>\n    </tr>\n    <tr>\n      <th>Mashup: ytwebservice</th>\n      <td>1</td>\n      <td>1</td>\n      <td>1</td>\n      <td>1</td>\n      <td>1</td>\n      <td>1</td>\n      <td>1</td>\n      <td>1</td>\n      <td>1</td>\n      <td>0</td>\n      <td>0</td>\n      <td>1</td>\n      <td>1</td>\n      <td>1</td>\n      <td>1</td>\n      <td>1</td>\n      <td>1</td>\n      <td>1</td>\n      <td>1</td>\n    </tr>\n    <tr>\n      <th>Mashup: zangoa</th>\n      <td>10</td>\n      <td>10</td>\n      <td>10</td>\n      <td>10</td>\n      <td>10</td>\n      <td>10</td>\n      <td>10</td>\n      <td>10</td>\n      <td>10</td>\n      <td>10</td>\n      <td>0</td>\n      <td>10</td>\n      <td>10</td>\n      <td>10</td>\n      <td>10</td>\n      <td>10</td>\n      <td>10</td>\n      <td>10</td>\n      <td>10</td>\n    </tr>\n  </tbody>\n</table>\n<p>6247 rows × 19 columns</p>\n</div>"
     },
     "execution_count": 14,
     "metadata": {},
     "output_type": "execute_result"
    }
   ],
   "source": [
    "# how many mashups are there\n",
    "mashups_api.groupby('name').count()\n",
    "# output says 6247"
   ],
   "metadata": {
    "collapsed": false,
    "pycharm": {
     "name": "#%%\n"
    }
   }
  },
  {
   "cell_type": "code",
   "execution_count": null,
   "outputs": [],
   "source": [
    "# 修改原数据，只保留年份\n",
    "mashups_api['st'] = mashups_api['st'].dt.year\n",
    "mashups_api['et'] = mashups_api['et'].dt.year\n",
    "mashups_api['oet'] = mashups_api['oet'].dt.year"
   ],
   "metadata": {
    "collapsed": false,
    "pycharm": {
     "name": "#%%\n"
    }
   }
  },
  {
   "cell_type": "code",
   "execution_count": 5,
   "outputs": [],
   "source": [
    "dd = 'death'\n",
    "ss = 'split'\n",
    "tt = 'transfer'"
   ],
   "metadata": {
    "collapsed": false,
    "pycharm": {
     "name": "#%%\n"
    }
   }
  },
  {
   "cell_type": "code",
   "execution_count": 15,
   "outputs": [],
   "source": [
    "def count_apis(by_ours=False):\n",
    "    split_apis = set()\n",
    "    transfer_apis = set()\n",
    "    all_dead_apis = set()\n",
    "    all_apis = set()\n",
    "    # marked_dead_apis = set()\n",
    "    for index, row in mashups_api.iterrows():\n",
    "        api_name = row['ra']\n",
    "        all_apis.add(api_name)\n",
    "        # programmableweb 上标注为死亡的API\n",
    "\n",
    "        # 使用oac 和 ac会产生不同的统计结果\n",
    "        if by_ours:\n",
    "            # 用a_ac判断\n",
    "            if not row['a_ac']:\n",
    "                all_dead_apis.add(api_name)\n",
    "            if not pd.isna(row['sta']):\n",
    "                all_dead_apis.add(api_name)\n",
    "                split_apis.add(api_name)\n",
    "            if not pd.isna(row['tta']):\n",
    "                all_dead_apis.add(api_name)\n",
    "                transfer_apis.add(api_name)\n",
    "        else:\n",
    "            # 用a_oac判断\n",
    "            if not row['a_oac']:\n",
    "                all_dead_apis.add(api_name)\n",
    "            if not pd.isna(row['sta']):\n",
    "                all_dead_apis.add(api_name)\n",
    "                split_apis.add(api_name)\n",
    "            if not pd.isna(row['tta']):\n",
    "                all_dead_apis.add(api_name)\n",
    "                transfer_apis.add(api_name)\n",
    "\n",
    "    death_apis = all_dead_apis - (split_apis | transfer_apis)\n",
    "\n",
    "    print(len(all_dead_apis), len(split_apis), len(transfer_apis), len(death_apis))\n",
    "    # all_apis = list(all_apis)\n",
    "    return death_apis, split_apis, transfer_apis\n"
   ],
   "metadata": {
    "collapsed": false,
    "pycharm": {
     "name": "#%%\n"
    }
   }
  },
  {
   "cell_type": "code",
   "execution_count": 16,
   "outputs": [
    {
     "name": "stdout",
     "output_type": "stream",
     "text": [
      "316 5 4 307\n"
     ]
    }
   ],
   "source": [
    "death_apis, split_apis, transfer_apis = count_apis()"
   ],
   "metadata": {
    "collapsed": false,
    "pycharm": {
     "name": "#%%\n"
    }
   }
  },
  {
   "cell_type": "code",
   "execution_count": 19,
   "outputs": [],
   "source": [
    "# 根据年份获取这一年使用了split的mashup的名字列表\n",
    "# 9.23 修正：因为Mashup 的死亡日期是估算出来的，因此不再使用死亡日期作判断依据\n",
    "def get_count_by_year(year, type_ = None):\n",
    "    \"\"\"\n",
    "        例如传入2020, ['death']，会返回截止至2020年底，已发布的mashup中，仅仅使用了death类型API的。\n",
    "        例如传入2020, ['death', 'split']，会返回截止至2020年底，已发布的mashup中，仅仅是用了death 和 split类型的API\n",
    "    \"\"\"\n",
    "    if type_ is None:\n",
    "\t    type_ = []\n",
    "    mashups = set()         # 只要用了死亡的API就加入\n",
    "    use_split = set()       # 只要用了split的API就加入\n",
    "    use_transfer = set()    # 只要用了transfer的API就加入\n",
    "    use_death = set()       # 只要用了death的API就加入\n",
    "\n",
    "    for index, row in mashups_api.iterrows():\n",
    "        name = row['name']\n",
    "        api_name = row['ra']\n",
    "        st = row['st'].year      # 发布日期\n",
    "        # et = row['et'].year      # 死亡日期\n",
    "\n",
    "        if st <= year:     # 发布日期小于这一年且死亡日期大于这一年\n",
    "            if api_name in split_apis:\n",
    "                use_split.add(name)\n",
    "                mashups.add(name)\n",
    "\n",
    "            if api_name in transfer_apis:\n",
    "                use_transfer.add(name)\n",
    "                mashups.add(name)\n",
    "\n",
    "\n",
    "            if api_name in death_apis:\n",
    "                use_death.add(name)\n",
    "                mashups.add(name)\n",
    "\n",
    "    all_used = use_death & use_split & use_transfer & mashups\n",
    "\n",
    "    if len(type_) == 3:\n",
    "        mashups = all_used\n",
    "    elif len(type_) == 2:\n",
    "        # 两个及以上\n",
    "        if dd in type_:\n",
    "            mashups = mashups & use_death\n",
    "        if ss in type_:\n",
    "            mashups = mashups & use_split\n",
    "        if tt in type_:\n",
    "            mashups = mashups & use_transfer\n",
    "\n",
    "        mashups = mashups - all_used\n",
    "    else:\n",
    "        # 仅一个\n",
    "        if dd in type_:\n",
    "            mashups = use_death - use_split - use_transfer\n",
    "        elif ss in type_:\n",
    "            mashups = use_split - use_death - use_transfer\n",
    "        elif tt in type_:\n",
    "            mashups = use_transfer - use_death - use_split\n",
    "\n",
    "    return list(mashups)"
   ],
   "metadata": {
    "collapsed": false,
    "pycharm": {
     "name": "#%%\n"
    }
   }
  },
  {
   "cell_type": "code",
   "execution_count": null,
   "outputs": [],
   "source": [
    "# test\n",
    "use_split_mashups_2017 = get_count_by_year(2020, ['death', 'split'])\n",
    "len(use_split_mashups_2017)"
   ],
   "metadata": {
    "collapsed": false,
    "pycharm": {
     "name": "#%%\n"
    }
   }
  },
  {
   "cell_type": "markdown",
   "source": [
    "## 统计如下"
   ],
   "metadata": {
    "collapsed": false
   }
  },
  {
   "cell_type": "markdown",
   "source": [
    "### 依据PW oac"
   ],
   "metadata": {
    "collapsed": false
   }
  },
  {
   "cell_type": "code",
   "execution_count": 20,
   "outputs": [
    {
     "data": {
      "text/plain": "[965, 2147, 57, 501, 25, 35, 41]"
     },
     "execution_count": 20,
     "metadata": {},
     "output_type": "execute_result"
    }
   ],
   "source": [
    "labels = ['Death', 'Split', 'Transfer', 'Death+Split', 'Split+Transfer', 'Transfer+Death', 'Death+Split+Transfer']\n",
    "death = get_count_by_year(2020, [dd])\n",
    "split = get_count_by_year(2020, [ss])\n",
    "transfer = get_count_by_year(2020, [tt])\n",
    "death_split = get_count_by_year(2020, [dd, ss])\n",
    "split_transfer = get_count_by_year(2020, [tt, ss])\n",
    "transfer_death = get_count_by_year(2020, [tt, dd])\n",
    "death_split_transfer = get_count_by_year(2020, [tt, ss, dd])\n",
    "lens = [len(death), len(split), len(transfer) ,len(death_split), len(split_transfer), len(transfer_death), len(death_split_transfer)]\n",
    "lens"
   ],
   "metadata": {
    "collapsed": false,
    "pycharm": {
     "name": "#%%\n"
    }
   }
  },
  {
   "cell_type": "markdown",
   "source": [
    "#### 绘图"
   ],
   "metadata": {
    "collapsed": false,
    "pycharm": {
     "name": "#%% md\n"
    }
   }
  },
  {
   "cell_type": "code",
   "execution_count": 21,
   "outputs": [
    {
     "name": "stderr",
     "output_type": "stream",
     "text": [
      "c:\\users\\zyq\\appdata\\local\\programs\\python\\python38\\lib\\site-packages\\pyecharts\\charts\\chart.py:14: PendingDeprecationWarning: pyecharts 所有图表类型将在 v1.9.0 版本开始强制使用 ChartItem 进行数据项配置 :)\n",
      "  super().__init__(init_opts=init_opts)\n"
     ]
    },
    {
     "data": {
      "text/plain": "'C:\\\\Users\\\\zyq\\\\iCloudDrive\\\\Projects\\\\mashuppies\\\\mashups_dead_api_usage_oac.html'"
     },
     "execution_count": 21,
     "metadata": {},
     "output_type": "execute_result"
    }
   ],
   "source": [
    "pie = Pie()\n",
    "count = [len(death), len(split), len(transfer) ,len(death_split), len(split_transfer), len(transfer_death), len(death_split_transfer)]\n",
    "\n",
    "# 修改数据格式\n",
    "pie_data = []\n",
    "for i in range(len(count)):\n",
    "    pie_data.append((labels[i], count[i]))\n",
    "\n",
    "pie.add(' ', pie_data, center=['50%', '60%'])\n",
    "pie.set_series_opts(label_opts=opts.LabelOpts(\n",
    "                                                position=\"outside\",\n",
    "                                                formatter=\"{a|{a}}{abg|}\\n{hr|}\\n {b|{b}: }{c}  {per|{d}%}  \",\n",
    "                                                background_color=\"#eee\",\n",
    "                                                border_color=\"#aaa\",\n",
    "                                                border_width=1,\n",
    "                                                border_radius=4,\n",
    "                                                rich={\n",
    "                                                    \"a\": {\"color\": \"#999\", \"lineHeight\": 22, \"align\": \"center\"},\n",
    "                                                    \"abg\": {\n",
    "                                                        \"backgroundColor\": \"#e3e3e3\",\n",
    "                                                        \"width\": \"100%\",\n",
    "                                                        \"align\": \"right\",\n",
    "                                                        \"height\": 22,\n",
    "                                                        \"borderRadius\": [4, 4, 0, 0],\n",
    "                                                    },\n",
    "                                                    \"hr\": {\n",
    "                                                        \"borderColor\": \"#aaa\",\n",
    "                                                        \"width\": \"100%\",\n",
    "                                                        \"borderWidth\": 0.5,\n",
    "                                                        \"height\": 0,\n",
    "                                                    },\n",
    "                                                    \"b\": {\"fontSize\": 16, \"lineHeight\": 33},\n",
    "                                                    \"per\": {\n",
    "                                                        \"color\": \"#eee\",\n",
    "                                                        \"backgroundColor\": \"#334455\",\n",
    "                                                        \"padding\": [2, 4],\n",
    "                                                        \"borderRadius\": 2,\n",
    "                                                    },\n",
    "                                                },\n",
    "                                            ),\n",
    "                                        )\n",
    "pie.render('mashups_dead_api_usage_oac.html')\n"
   ],
   "metadata": {
    "collapsed": false,
    "pycharm": {
     "name": "#%%\n"
    }
   }
  },
  {
   "cell_type": "markdown",
   "source": [
    "### 依据我们访问的结果ac"
   ],
   "metadata": {
    "collapsed": false,
    "pycharm": {
     "name": "#%% md\n"
    }
   }
  },
  {
   "cell_type": "code",
   "execution_count": 24,
   "outputs": [
    {
     "name": "stderr",
     "output_type": "stream",
     "text": [
      "c:\\users\\zyq\\appdata\\local\\programs\\python\\python38\\lib\\site-packages\\ipykernel\\ipkernel.py:287: DeprecationWarning: `should_run_async` will not call `transform_cell` automatically in the future. Please pass the result to `transformed_cell` argument and any exception that happen during thetransform in `preprocessing_exc_tuple` in IPython 7.17 and above.\n",
      "  and should_run_async(code)\n"
     ]
    },
    {
     "name": "stdout",
     "output_type": "stream",
     "text": [
      "1186 5 4 1177\n"
     ]
    },
    {
     "data": {
      "text/plain": "[2476, 1549, 39, 1099, 11, 53, 55]"
     },
     "execution_count": 24,
     "metadata": {},
     "output_type": "execute_result"
    }
   ],
   "source": [
    "death_apis, split_apis, transfer_apis = count_apis(by_ours=True)\n",
    "labels = ['Death', 'Split', 'Transfer', 'Death+Split', 'Split+Transfer', 'Transfer+Death', 'Death+Split+Transfer']\n",
    "death = get_count_by_year(2020, [dd])\n",
    "split = get_count_by_year(2020, [ss])\n",
    "transfer = get_count_by_year(2020, [tt])\n",
    "death_split = get_count_by_year(2020, [dd, ss])\n",
    "split_transfer = get_count_by_year(2020, [tt, ss])\n",
    "transfer_death = get_count_by_year(2020, [tt, dd])\n",
    "death_split_transfer = get_count_by_year(2020, [tt, ss, dd])\n",
    "lens = [len(death), len(split), len(transfer) ,len(death_split), len(split_transfer), len(transfer_death), len(death_split_transfer)]\n",
    "lens"
   ],
   "metadata": {
    "collapsed": false,
    "pycharm": {
     "name": "#%%\n"
    }
   }
  },
  {
   "cell_type": "markdown",
   "source": [
    "#### 绘图"
   ],
   "metadata": {
    "collapsed": false,
    "pycharm": {
     "name": "#%% md\n"
    }
   }
  },
  {
   "cell_type": "code",
   "execution_count": 25,
   "outputs": [
    {
     "name": "stderr",
     "output_type": "stream",
     "text": [
      "c:\\users\\zyq\\appdata\\local\\programs\\python\\python38\\lib\\site-packages\\pyecharts\\charts\\chart.py:14: PendingDeprecationWarning: pyecharts 所有图表类型将在 v1.9.0 版本开始强制使用 ChartItem 进行数据项配置 :)\n",
      "  super().__init__(init_opts=init_opts)\n"
     ]
    },
    {
     "data": {
      "text/plain": "'C:\\\\Users\\\\zyq\\\\iCloudDrive\\\\Projects\\\\mashuppies\\\\mashups-dead_api_usage_ac.html'"
     },
     "execution_count": 25,
     "metadata": {},
     "output_type": "execute_result"
    }
   ],
   "source": [
    "pie = Pie()\n",
    "count = [len(death), len(split), len(transfer) ,len(death_split), len(split_transfer), len(transfer_death), len(death_split_transfer)]\n",
    "\n",
    "# 修改数据格式\n",
    "pie_data = []\n",
    "for i in range(len(count)):\n",
    "    pie_data.append((labels[i], count[i]))\n",
    "\n",
    "pie.add(' ', pie_data, center=['50%', '60%'])\n",
    "pie.set_series_opts(label_opts=opts.LabelOpts(\n",
    "                                                position=\"outside\",\n",
    "                                                formatter=\"{a|{a}}{abg|}\\n{hr|}\\n {b|{b}: }{c}  {per|{d}%}  \",\n",
    "                                                background_color=\"#eee\",\n",
    "                                                border_color=\"#aaa\",\n",
    "                                                border_width=1,\n",
    "                                                border_radius=4,\n",
    "                                                rich={\n",
    "                                                    \"a\": {\"color\": \"#999\", \"lineHeight\": 22, \"align\": \"center\"},\n",
    "                                                    \"abg\": {\n",
    "                                                        \"backgroundColor\": \"#e3e3e3\",\n",
    "                                                        \"width\": \"100%\",\n",
    "                                                        \"align\": \"right\",\n",
    "                                                        \"height\": 22,\n",
    "                                                        \"borderRadius\": [4, 4, 0, 0],\n",
    "                                                    },\n",
    "                                                    \"hr\": {\n",
    "                                                        \"borderColor\": \"#aaa\",\n",
    "                                                        \"width\": \"100%\",\n",
    "                                                        \"borderWidth\": 0.5,\n",
    "                                                        \"height\": 0,\n",
    "                                                    },\n",
    "                                                    \"b\": {\"fontSize\": 16, \"lineHeight\": 33},\n",
    "                                                    \"per\": {\n",
    "                                                        \"color\": \"#eee\",\n",
    "                                                        \"backgroundColor\": \"#334455\",\n",
    "                                                        \"padding\": [2, 4],\n",
    "                                                        \"borderRadius\": 2,\n",
    "                                                    },\n",
    "                                                },\n",
    "                                            ),\n",
    "                                        )\n",
    "pie.render('mashups-dead_api_usage_ac.html')\n"
   ],
   "metadata": {
    "collapsed": false,
    "pycharm": {
     "name": "#%%\n"
    }
   }
  },
  {
   "cell_type": "markdown",
   "source": [
    "# 按年统计mashup使用api的数量"
   ],
   "metadata": {
    "collapsed": false,
    "pycharm": {
     "name": "#%% md\n"
    }
   }
  },
  {
   "cell_type": "code",
   "execution_count": 20,
   "outputs": [
    {
     "data": {
      "text/plain": "7947"
     },
     "execution_count": 20,
     "metadata": {},
     "output_type": "execute_result"
    }
   ],
   "source": [
    "with open('graph_data_backup/data0906-1.txt', 'r', encoding='utf-8') as file:\n",
    "    active_mashups = json.load(file)\n",
    "    active_mashups = [a for a in active_mashups if a is not None]\n",
    "\n",
    "with open('graph_data_backup/deadpool_mashups0917.txt', 'r', encoding='utf-8') as file:\n",
    "    dead_mashups = json.load(file)\n",
    "    dead_mashups = [d for d in dead_mashups if d is not None]\n",
    "\n",
    "all_mashups = active_mashups + dead_mashups\n",
    "len(all_mashups)\n"
   ],
   "metadata": {
    "collapsed": false,
    "pycharm": {
     "name": "#%%\n"
    }
   }
  },
  {
   "cell_type": "code",
   "execution_count": 43,
   "outputs": [
    {
     "name": "stdout",
     "output_type": "stream",
     "text": [
      "(API数量, 出现次数)\n"
     ]
    },
    {
     "data": {
      "text/plain": "[(20, ['Mashup: G4ng2010', \"Mashup: What's Public2011\"]),\n (21,\n  ['Mashup: ConnectorLocal2009',\n   'Mashup: ShipStation2012',\n   'Mashup: coderbits2013']),\n (22, ['Mashup: vplan.com/search2013']),\n (23, ['Mashup: Gawkk.com2008']),\n (24, ['Mashup: Sociotoco Search2009']),\n (28, ['Mashup: Pixelpipe2008']),\n (29, ['Mashup: DoAt (do@)2011']),\n (37, ['Mashup: We-Wired Web2012'])]"
     },
     "execution_count": 43,
     "metadata": {},
     "output_type": "execute_result"
    }
   ],
   "source": [
    "# 可删\n",
    "count_dict = {}\n",
    "# for am in all_mashups:\n",
    "#     ra = am['related_apis']\n",
    "#     length = len(ra)\n",
    "#     if length in count_dict:\n",
    "#         count_dict[length].append(am['title'] + am['date'])\n",
    "#     else:\n",
    "#         count_dict[length] = [am['title'] + am['date']]\n",
    "\n",
    "for name, group in mashups_api[['name', 'st', 'et', 'oet', 'ra']].groupby('name'):\n",
    "    length = len(group.groupby('ra'))\n",
    "    if length in count_dict:\n",
    "        count_dict[length].append(name + str(group.iloc[[0], [1]].values[0][0]))\n",
    "    else:\n",
    "        count_dict[length] = [name + str(group.iloc[[0], [1]].values[0][0])]\n",
    "\n",
    "\n",
    "print('(API数量, 出现次数)')\n",
    "# for key in sorted(count_dict.keys()):\n",
    "#     if len(count_dict[key]) >= 20:\n",
    "#         print((key, count_dict[key]))\n",
    "[(key, count_dict[key]) for key in sorted(count_dict.keys()) if key >= 20]"
   ],
   "metadata": {
    "collapsed": false,
    "pycharm": {
     "name": "#%%\n"
    }
   }
  },
  {
   "cell_type": "code",
   "execution_count": 33,
   "outputs": [
    {
     "data": {
      "text/plain": "(['Mashup: Headup02.05.2009'],\n ['Mashup: We-Wired Web06.14.2012\\n'],\n ['Mashup: Tagbulb12.02.2006'])"
     },
     "execution_count": 33,
     "metadata": {},
     "output_type": "execute_result"
    }
   ],
   "source": [
    "count_dict[36], count_dict[37],count_dict[63]"
   ],
   "metadata": {
    "collapsed": false,
    "pycharm": {
     "name": "#%%\n"
    }
   }
  },
  {
   "cell_type": "code",
   "execution_count": 16,
   "outputs": [
    {
     "ename": "NameError",
     "evalue": "name 'all_mashups' is not defined",
     "output_type": "error",
     "traceback": [
      "\u001B[1;31m---------------------------------------------------------------------------\u001B[0m",
      "\u001B[1;31mNameError\u001B[0m                                 Traceback (most recent call last)",
      "\u001B[1;32m<ipython-input-16-ac4c5542f9a4>\u001B[0m in \u001B[0;36m<module>\u001B[1;34m\u001B[0m\n\u001B[0;32m      2\u001B[0m \u001B[0mdate_dict\u001B[0m \u001B[1;33m=\u001B[0m \u001B[1;33m{\u001B[0m\u001B[1;33m}\u001B[0m\u001B[1;33m\u001B[0m\u001B[1;33m\u001B[0m\u001B[0m\n\u001B[0;32m      3\u001B[0m \u001B[1;31m# 利用他们的名字构造一个时间dict\u001B[0m\u001B[1;33m\u001B[0m\u001B[1;33m\u001B[0m\u001B[1;33m\u001B[0m\u001B[0m\n\u001B[1;32m----> 4\u001B[1;33m \u001B[1;32mfor\u001B[0m \u001B[0mm\u001B[0m \u001B[1;32min\u001B[0m \u001B[0mall_mashups\u001B[0m\u001B[1;33m:\u001B[0m\u001B[1;33m\u001B[0m\u001B[1;33m\u001B[0m\u001B[0m\n\u001B[0m\u001B[0;32m      5\u001B[0m     \u001B[0mname\u001B[0m \u001B[1;33m=\u001B[0m \u001B[0mm\u001B[0m\u001B[1;33m[\u001B[0m\u001B[1;34m'title'\u001B[0m\u001B[1;33m]\u001B[0m\u001B[1;33m\u001B[0m\u001B[1;33m\u001B[0m\u001B[0m\n\u001B[0;32m      6\u001B[0m     \u001B[0mst\u001B[0m \u001B[1;33m=\u001B[0m \u001B[0mdatetime\u001B[0m\u001B[1;33m.\u001B[0m\u001B[0mdatetime\u001B[0m\u001B[1;33m.\u001B[0m\u001B[0mstrptime\u001B[0m\u001B[1;33m(\u001B[0m\u001B[0mm\u001B[0m\u001B[1;33m[\u001B[0m\u001B[1;34m'date'\u001B[0m\u001B[1;33m]\u001B[0m\u001B[1;33m.\u001B[0m\u001B[0mstrip\u001B[0m\u001B[1;33m(\u001B[0m\u001B[1;33m)\u001B[0m\u001B[1;33m,\u001B[0m \u001B[1;34m'%m.%d.%Y'\u001B[0m\u001B[1;33m)\u001B[0m\u001B[1;33m.\u001B[0m\u001B[0mdate\u001B[0m\u001B[1;33m(\u001B[0m\u001B[1;33m)\u001B[0m\u001B[1;33m\u001B[0m\u001B[1;33m\u001B[0m\u001B[0m\n",
      "\u001B[1;31mNameError\u001B[0m: name 'all_mashups' is not defined"
     ]
    }
   ],
   "source": [
    "import datetime\n",
    "date_dict = {}\n",
    "# 利用他们的名字构造一个时间dict\n",
    "for m in all_mashups:\n",
    "    name = m['title']\n",
    "    st = datetime.datetime.strptime(m['date'].strip(), '%m.%d.%Y').date()\n",
    "    date_dict[name] = st\n",
    "\n",
    "len(date_dict)"
   ],
   "metadata": {
    "collapsed": false,
    "pycharm": {
     "name": "#%%\n"
    }
   }
  },
  {
   "cell_type": "markdown",
   "source": [
    "## 统计历年mashup平均使用api的数量"
   ],
   "metadata": {
    "collapsed": false,
    "pycharm": {
     "name": "#%% md\n"
    }
   }
  },
  {
   "cell_type": "code",
   "execution_count": 13,
   "outputs": [],
   "source": [
    "def init_dict():\n",
    "    api_count = {\n",
    "        yy: 0 for yy in range(2005, 2021)\n",
    "    }\n",
    "\n",
    "    mashup_count = {\n",
    "        yy: 0 for yy in range(2005, 2021)\n",
    "    }\n",
    "\n",
    "    return api_count, mashup_count"
   ],
   "metadata": {
    "collapsed": false,
    "pycharm": {
     "name": "#%%\n"
    }
   }
  },
  {
   "cell_type": "markdown",
   "source": [
    "### 平均值，折线图"
   ],
   "metadata": {
    "collapsed": false,
    "pycharm": {
     "name": "#%% md\n"
    }
   }
  },
  {
   "cell_type": "code",
   "execution_count": 7,
   "outputs": [],
   "source": [
    "from matplotlib import pyplot as plt"
   ],
   "metadata": {
    "collapsed": false,
    "pycharm": {
     "name": "#%%\n"
    }
   }
  },
  {
   "cell_type": "markdown",
   "source": [
    "### 箱形图"
   ],
   "metadata": {
    "collapsed": false,
    "pycharm": {
     "name": "#%% md\n"
    }
   }
  },
  {
   "cell_type": "code",
   "execution_count": 6,
   "outputs": [],
   "source": [
    "api_usage = {\n",
    "    x: [] for x in range(2005, 2021)\n",
    "}\n",
    "\n",
    "# for am in all_mashups:\n",
    "#     year = am['date'].strip().split('.')[2]\n",
    "#     api_usage[int(year)].append(len(am['related_apis']))\n",
    "\n",
    "for name, group in mashups_api[['name', 'st', 'et', 'oet', 'ra']].groupby('name'):\n",
    "    year = int(group.iloc[[0], [1]].values[0][0])\n",
    "    api_usage[year].append(len(group.groupby('ra')))\n",
    "\n",
    "boxes = [usage for usage in api_usage.values()]"
   ],
   "metadata": {
    "collapsed": false,
    "pycharm": {
     "name": "#%%\n"
    }
   }
  },
  {
   "cell_type": "code",
   "execution_count": 11,
   "outputs": [
    {
     "data": {
      "text/plain": "<Figure size 1152x864 with 1 Axes>",
      "image/png": "[encoded data removed]"
     },
     "metadata": {
      "needs_background": "light"
     },
     "output_type": "display_data"
    }
   ],
   "source": [
    "plt.figure(figsize=(16, 12))\n",
    "plt.xticks(fontsize=22, rotation=45)\n",
    "plt.yticks(fontsize=20)\n",
    "plt.xlabel('Year', fontsize=20)\n",
    "plt.ylabel('Number of APIs', fontsize=20)\n",
    "plt.boxplot(boxes, labels=api_usage.keys())\n",
    "plt.savefig('mashup_complexity_newly_submit.png', dpi=150)"
   ],
   "metadata": {
    "collapsed": false,
    "pycharm": {
     "name": "#%%\n"
    }
   }
  },
  {
   "cell_type": "code",
   "execution_count": null,
   "outputs": [],
   "source": [
    "## 统计历年新提交的mashup使用api数量的变化（改成箱型图）"
   ],
   "metadata": {
    "collapsed": false,
    "pycharm": {
     "name": "#%%\n"
    }
   }
  },
  {
   "cell_type": "code",
   "execution_count": 5,
   "outputs": [],
   "source": [
    "mashups_api['st'] = mashups_api['st'].dt.year"
   ],
   "metadata": {
    "collapsed": false,
    "pycharm": {
     "name": "#%%\n"
    }
   }
  },
  {
   "cell_type": "code",
   "execution_count": 33,
   "outputs": [
    {
     "data": {
      "text/plain": "<Figure size 432x288 with 1 Axes>",
      "image/png": "[encoded data removed]"
     },
     "metadata": {
      "needs_background": "light"
     },
     "output_type": "display_data"
    },
    {
     "data": {
      "text/plain": "<Figure size 432x288 with 0 Axes>"
     },
     "metadata": {},
     "output_type": "display_data"
    }
   ],
   "source": [
    "st_mashup_api_count, mashup_count = init_dict()\n",
    "# st_mashup_api_count = {\n",
    "#     k: [] for k in range(2005, 2021)\n",
    "# }\n",
    "\n",
    "# 现在把year取出来，然后用year为索引\n",
    "for name, group in mashups_api[['name', 'st', 'et', 'oet', 'ra']].groupby('name'):\n",
    "    # print(group)\n",
    "    st = int(group.iloc[[0], [1]].values[0][0])\n",
    "    mashup_count[st] += 1\n",
    "    count = len(group.groupby('ra'))\n",
    "    # api_count[et] += count\n",
    "    st_mashup_api_count[st] += count\n",
    "\n",
    "# boxes = [usage for usage in st_mashup_api_count.values()]\n",
    "# plt.figure(figsize=(14, 8))\n",
    "# plt.xlabel('Year')\n",
    "# plt.ylabel('Number of APIs (Submit)')\n",
    "# plt.boxplot(boxes, labels=st_mashup_api_count.keys())\n",
    "\n",
    "y3 = []\n",
    "for k in mashup_count.keys():\n",
    "    if st_mashup_api_count[k] != 0:\n",
    "        y3.append(st_mashup_api_count[k] / float(mashup_count[k]))\n",
    "    else:\n",
    "        y3.append(0)\n",
    "# y2 = [et_mashup_api_count[k] / float(mashup_count[k]) for k in mashup_count.keys()]\n",
    "x = [i for i in mashup_count.keys()]\n",
    "plt.plot(x, y3)\n",
    "plt.show()\n",
    "plt.savefig('et.png', dpi=500)"
   ],
   "metadata": {
    "collapsed": false,
    "pycharm": {
     "name": "#%%\n"
    }
   }
  },
  {
   "cell_type": "code",
   "execution_count": 36,
   "outputs": [
    {
     "data": {
      "text/plain": "(1.2857142857142858, 2.492248062015504)"
     },
     "execution_count": 36,
     "metadata": {},
     "output_type": "execute_result"
    }
   ],
   "source": [
    "min(y3), max(y3)"
   ],
   "metadata": {
    "collapsed": false,
    "pycharm": {
     "name": "#%%\n"
    }
   }
  },
  {
   "cell_type": "markdown",
   "source": [
    "## 统计历年死亡mashup使用的api的数量变化（et决定）"
   ],
   "metadata": {
    "collapsed": false,
    "pycharm": {
     "name": "#%% md\n"
    }
   }
  },
  {
   "cell_type": "code",
   "execution_count": 17,
   "outputs": [
    {
     "data": {
      "text/plain": "<Figure size 432x288 with 1 Axes>",
      "image/png": "[encoded data removed]"
     },
     "metadata": {
      "needs_background": "light"
     },
     "output_type": "display_data"
    },
    {
     "data": {
      "text/plain": "<Figure size 432x288 with 0 Axes>"
     },
     "metadata": {},
     "output_type": "display_data"
    }
   ],
   "source": [
    "et_mashup_api_count, mashup_count = init_dict()\n",
    "\n",
    "# 现在把year取出来，然后用year为索引，将len(group)和1分别相加到上面的dict中\n",
    "for name, group in mashups_api[['name', 'st', 'et', 'oet', 'ra']].groupby('name'):\n",
    "    et = int(group.iloc[[0], [2]].values[0][0])\n",
    "    if et != 2222:\n",
    "       mashup_count[et] += 1\n",
    "       count = len(group.groupby('ra'))\n",
    "       api_count[et] += count\n",
    "       et_mashup_api_count[et] += count\n",
    "\n",
    "y2 = []\n",
    "for k in mashup_count.keys():\n",
    "    if et_mashup_api_count[k] != 0:\n",
    "        y2.append(et_mashup_api_count[k] / float(mashup_count[k]))\n",
    "    else:\n",
    "        y2.append(0)\n",
    "# y2 = [et_mashup_api_count[k] / float(mashup_count[k]) for k in mashup_count.keys()]\n",
    "\n",
    "plt.plot(x, y2)\n",
    "plt.show()\n",
    "plt.savefig('et.png', dpi=500)"
   ],
   "metadata": {
    "collapsed": false,
    "pycharm": {
     "name": "#%%\n"
    }
   }
  },
  {
   "cell_type": "markdown",
   "source": [
    "## 统计历年死亡mashup使用的api的数量变化（oet决定）"
   ],
   "metadata": {
    "collapsed": false,
    "pycharm": {
     "name": "#%% md\n"
    }
   }
  },
  {
   "cell_type": "code",
   "execution_count": 18,
   "outputs": [
    {
     "data": {
      "text/plain": "<Figure size 432x288 with 1 Axes>",
      "image/png": "[encoded data removed]"
     },
     "metadata": {
      "needs_background": "light"
     },
     "output_type": "display_data"
    },
    {
     "data": {
      "text/plain": "<Figure size 432x288 with 0 Axes>"
     },
     "metadata": {},
     "output_type": "display_data"
    }
   ],
   "source": [
    "oet_mashup_api_count, mashup_count = init_dict()\n",
    "\n",
    "for name, group in mashups_api[['name', 'st', 'et', 'oet', 'ra']].groupby('name'):\n",
    "    oet = int(group.iloc[[0], [3]].values[0][0])\n",
    "    if oet != 2222:\n",
    "       mashup_count[oet] += 1\n",
    "       count = len(group)\n",
    "       api_count[oet] += count\n",
    "       oet_mashup_api_count[oet] += count\n",
    "\n",
    "y3 = []\n",
    "for k in mashup_count.keys():\n",
    "    if oet_mashup_api_count[k] != 0:\n",
    "        y3.append(oet_mashup_api_count[k] / float(mashup_count[k]))\n",
    "    else:\n",
    "        y3.append(0)\n",
    "\n",
    "# y3 = [oet_mashup_api_count[k] / float(mashup_count[k]) for k in mashup_count.keys()]\n",
    "\n",
    "plt.plot(x, y3)\n",
    "plt.show()\n",
    "plt.savefig('oet.png', dpi=500)"
   ],
   "metadata": {
    "collapsed": false,
    "pycharm": {
     "name": "#%%\n"
    }
   }
  },
  {
   "cell_type": "markdown",
   "source": [
    "## 读取死亡mashup的源文件（json），观察mashup使用api数量的变化\n",
    "\n",
    "为什么这么做：\n",
    "- 因为csv格式化文件里面的oet好像有问题，导致我无法统计处正确信息，所以读一下源文件看看"
   ],
   "metadata": {
    "collapsed": false,
    "pycharm": {
     "name": "#%% md\n"
    }
   }
  },
  {
   "cell_type": "code",
   "execution_count": 14,
   "outputs": [
    {
     "ename": "NameError",
     "evalue": "name 'dead_mashups' is not defined",
     "output_type": "error",
     "traceback": [
      "\u001B[1;31m---------------------------------------------------------------------------\u001B[0m",
      "\u001B[1;31mNameError\u001B[0m                                 Traceback (most recent call last)",
      "\u001B[1;32m<ipython-input-14-eb733f15524b>\u001B[0m in \u001B[0;36m<module>\u001B[1;34m\u001B[0m\n\u001B[0;32m      2\u001B[0m \u001B[1;33m\u001B[0m\u001B[0m\n\u001B[0;32m      3\u001B[0m \u001B[1;31m# 用上面读过的dead_mashups做一次统计\u001B[0m\u001B[1;33m\u001B[0m\u001B[1;33m\u001B[0m\u001B[1;33m\u001B[0m\u001B[0m\n\u001B[1;32m----> 4\u001B[1;33m \u001B[1;32mfor\u001B[0m \u001B[0mdm\u001B[0m \u001B[1;32min\u001B[0m \u001B[0mdead_mashups\u001B[0m\u001B[1;33m:\u001B[0m\u001B[1;33m\u001B[0m\u001B[1;33m\u001B[0m\u001B[0m\n\u001B[0m\u001B[0;32m      5\u001B[0m     \u001B[0moet\u001B[0m \u001B[1;33m=\u001B[0m \u001B[0mint\u001B[0m\u001B[1;33m(\u001B[0m\u001B[1;34m'20'\u001B[0m \u001B[1;33m+\u001B[0m \u001B[0mdm\u001B[0m\u001B[1;33m[\u001B[0m\u001B[1;34m'deprecated_date_estimated'\u001B[0m\u001B[1;33m]\u001B[0m\u001B[1;33m.\u001B[0m\u001B[0msplit\u001B[0m\u001B[1;33m(\u001B[0m\u001B[1;34m' '\u001B[0m\u001B[1;33m)\u001B[0m\u001B[1;33m[\u001B[0m\u001B[1;36m0\u001B[0m\u001B[1;33m]\u001B[0m\u001B[1;33m.\u001B[0m\u001B[0msplit\u001B[0m\u001B[1;33m(\u001B[0m\u001B[1;34m'-'\u001B[0m\u001B[1;33m)\u001B[0m\u001B[1;33m[\u001B[0m\u001B[1;36m2\u001B[0m\u001B[1;33m]\u001B[0m\u001B[1;33m)\u001B[0m\u001B[1;33m\u001B[0m\u001B[1;33m\u001B[0m\u001B[0m\n\u001B[0;32m      6\u001B[0m     \u001B[0mras\u001B[0m \u001B[1;33m=\u001B[0m \u001B[0mdm\u001B[0m\u001B[1;33m[\u001B[0m\u001B[1;34m'related_apis'\u001B[0m\u001B[1;33m]\u001B[0m\u001B[1;33m\u001B[0m\u001B[1;33m\u001B[0m\u001B[0m\n",
      "\u001B[1;31mNameError\u001B[0m: name 'dead_mashups' is not defined"
     ]
    }
   ],
   "source": [
    "oet_mashup_api_count, mashup_count = init_dict()\n",
    "\n",
    "# 用上面读过的dead_mashups做一次统计\n",
    "for dm in dead_mashups:\n",
    "    oet = int('20' + dm['deprecated_date_estimated'].split(' ')[0].split('-')[2])\n",
    "    ras = dm['related_apis']\n",
    "    oet_mashup_api_count[oet] += len(ras)\n",
    "    mashup_count[oet] += 1\n",
    "\n",
    "x = [k for k in mashup_count.keys()]\n",
    "y3 = []\n",
    "for k in mashup_count.keys():\n",
    "    if oet_mashup_api_count[k] != 0:\n",
    "        y3.append(oet_mashup_api_count[k] / float(mashup_count[k]))\n",
    "    else:\n",
    "        y3.append(0)\n",
    "\n",
    "plt.plot(x, y3)\n",
    "plt.show()\n",
    "plt.savefig('oet.png', dpi=500)"
   ],
   "metadata": {
    "collapsed": false,
    "pycharm": {
     "name": "#%%\n"
    }
   }
  },
  {
   "cell_type": "markdown",
   "source": [
    "- 下面做两个统计：\n",
    "    1. 统计死亡的mashup的api用量，绘制箱形图\n",
    "    2. 统计活着的mashup的api用量，绘制箱形图\n",
    "\n",
    "    **需要累积**"
   ],
   "metadata": {
    "collapsed": false,
    "pycharm": {
     "name": "#%% md\n"
    }
   }
  },
  {
   "cell_type": "code",
   "execution_count": 14,
   "outputs": [],
   "source": [
    "api_usage_a = {\n",
    "    x: [] for x in range(2005, 2021)\n",
    "}\n",
    "\n",
    "api_usage_d = {\n",
    "    x: [] for x in range(2005, 2021)\n",
    "}\n",
    "\n",
    "mashup_count_a, mashup_count_d = init_dict()\n",
    "\n",
    "for name, group in mashups_api[['name', 'st', 'et', 'oet', 'ra', 'ac']].groupby('name'):\n",
    "    year = int(group.iloc[[0], [1]].values[0][0])\n",
    "    et = int(group.iloc[[0], [2]].values[0][0])\n",
    "    et = min(2020, et)\n",
    "    ac = bool(group.iloc[[0], [5]].values[0][0])\n",
    "    if True:\n",
    "\n",
    "        for y in range(year, et + 1):\n",
    "            api_usage_a[y].append(len(group.groupby('ra')))\n",
    "            mashup_count_a[y] += 1\n",
    "\n",
    "        # api_usage_a[year].append(len(group.groupby('ra')))\n",
    "        # mashup_count_a[year] += 1\n",
    "    else:\n",
    "        # 这一段暂时不写了，也要写成if为true时里面的样子才是正确的\n",
    "        api_usage_d[year].append(len(group.groupby('ra')))\n",
    "        mashup_count_d[year] += 1\n"
   ],
   "metadata": {
    "collapsed": false,
    "pycharm": {
     "name": "#%%\n"
    }
   }
  },
  {
   "cell_type": "code",
   "execution_count": 15,
   "outputs": [
    {
     "data": {
      "text/plain": "<Figure size 1152x864 with 1 Axes>",
      "image/png": "[encoded data removed]"
     },
     "metadata": {
      "needs_background": "light"
     },
     "output_type": "display_data"
    }
   ],
   "source": [
    "# ac == True\n",
    "boxes = [usage for usage in api_usage_a.values()]\n",
    "plt.figure(figsize=(16, 12))\n",
    "plt.xticks(fontsize=22, rotation=45)\n",
    "plt.yticks(fontsize=20)\n",
    "plt.xlabel('Year', fontsize=20)\n",
    "plt.ylabel('Number of APIs', fontsize=20)\n",
    "plt.boxplot(boxes, labels=api_usage_a.keys())\n",
    "plt.savefig('mashup_complexity_overall.png', dpi=150)"
   ],
   "metadata": {
    "collapsed": false,
    "pycharm": {
     "name": "#%%\n"
    }
   }
  },
  {
   "cell_type": "code",
   "execution_count": null,
   "outputs": [],
   "source": [
    "# ac == False\n",
    "boxes = [usage for usage in api_usage_d.values()]\n",
    "plt.figure(figsize=(14, 8))\n",
    "plt.xlabel('Year')\n",
    "plt.ylabel('Number of APIs (Deactivated)')\n",
    "plt.boxplot(boxes, labels=api_usage_d.keys())"
   ],
   "metadata": {
    "collapsed": false,
    "pycharm": {
     "name": "#%%\n"
    }
   }
  },
  {
   "cell_type": "code",
   "execution_count": 15,
   "outputs": [
    {
     "data": {
      "text/plain": "[<matplotlib.lines.Line2D at 0x2b314f7f310>]"
     },
     "execution_count": 15,
     "metadata": {},
     "output_type": "execute_result"
    },
    {
     "data": {
      "text/plain": "<Figure size 432x288 with 1 Axes>",
      "image/png": "[encoded data removed]"
     },
     "metadata": {
      "needs_background": "light"
     },
     "output_type": "display_data"
    }
   ],
   "source": [
    "# 如果绘制平均值的折线图？\n",
    "# active\n",
    "y = [sum(api_usage_a[key]) / float(mashup_count_a[key]) for key in mashup_count_a]\n",
    "plt.plot(y)"
   ],
   "metadata": {
    "collapsed": false,
    "pycharm": {
     "name": "#%%\n"
    }
   }
  },
  {
   "cell_type": "code",
   "execution_count": 16,
   "outputs": [
    {
     "data": {
      "text/plain": "[<matplotlib.lines.Line2D at 0x2b315e93d00>]"
     },
     "execution_count": 16,
     "metadata": {},
     "output_type": "execute_result"
    },
    {
     "data": {
      "text/plain": "<Figure size 432x288 with 1 Axes>",
      "image/png": "[encoded data removed]"
     },
     "metadata": {
      "needs_background": "light"
     },
     "output_type": "display_data"
    }
   ],
   "source": [
    "# dead\n",
    "y = [sum(api_usage_d[key]) / float(mashup_count_d[key]) for key in mashup_count_d]\n",
    "plt.plot(y)"
   ],
   "metadata": {
    "collapsed": false,
    "pycharm": {
     "name": "#%%\n"
    }
   }
  },
  {
   "cell_type": "code",
   "execution_count": null,
   "outputs": [],
   "source": [],
   "metadata": {
    "collapsed": false,
    "pycharm": {
     "name": "#%%\n"
    }
   }
  }
 ],
 "metadata": {
  "kernelspec": {
   "display_name": "Python 3",
   "language": "python",
   "name": "python3"
  },
  "language_info": {
   "codemirror_mode": {
    "name": "ipython",
    "version": 2
   },
   "file_extension": ".py",
   "mimetype": "text/x-python",
   "name": "python",
   "nbconvert_exporter": "python",
   "pygments_lexer": "ipython2",
   "version": "2.7.6"
  }
 },
 "nbformat": 4,
 "nbformat_minor": 0
}