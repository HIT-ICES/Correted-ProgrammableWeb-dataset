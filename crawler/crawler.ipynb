{
 "nbformat": 4,
 "nbformat_minor": 0,
 "metadata": {
  "colab": {
   "name": "Api_Grabber.ipynb",
   "provenance": [],
   "collapsed_sections": []
  },
  "kernelspec": {
   "name": "python3",
   "display_name": "Python 3"
  }
 },
 "cells": [
  {
   "cell_type": "code",
   "metadata": {
    "id": "4Kz7WHKjT_AD"
   },
   "source": [
    "import requests\n",
    "from bs4 import BeautifulSoup\n",
    "import threading\n",
    "import json\n",
    "from data.crawler.data_objects import Api, ApiVersion, Changelog, DeadPoolApi\n",
    "\n",
    "# Sep.16, 2020\n",
    "max_page = 948"
   ],
   "execution_count": null,
   "outputs": []
  },
  {
   "cell_type": "code",
   "metadata": {
    "id": "mqwA0-eYULx6"
   },
   "source": [
    "# Assist function. Split a list\n",
    "def list_split(list_info, per_list_len):\n",
    "    \"\"\"\n",
    "    :param list_info:   列表\n",
    "    :param per_list_len:  每个小列表的长度\n",
    "    :return:\n",
    "    \"\"\"\n",
    "    list_of_group = zip(*(iter(list_info),) * per_list_len)\n",
    "    end_list = [list(i) for i in list_of_group]  # i is a tuple\n",
    "    count = len(list_info) % per_list_len\n",
    "    end_list.append(list_info[-count:]) if count != 0 else end_list\n",
    "    return end_list"
   ],
   "execution_count": null,
   "outputs": []
  },
  {
   "cell_type": "code",
   "metadata": {
    "id": "6iB4vQoJcusX"
   },
   "source": [
    "pages = [i for i in range(max_page)]\n",
    "pages_split = list_split(pages, 8)    # Split the pages for multi-threads work\n",
    "pages_split     # preview"
   ],
   "execution_count": null,
   "outputs": []
  },
  {
   "cell_type": "code",
   "metadata": {
    "id": "LU6czcqCU0hq"
   },
   "source": [
    "# Save the URLs for future works.\n",
    "base = 'https://www.programmableweb.com/category/all/apis?deadpool=1&page='\n",
    "api_links = {}\n",
    "failed_page_idx = []    # save the page number when no table is found\n",
    "\n",
    "\n",
    "def get_list(thread_count, pages):\n",
    "    \"\"\"\n",
    "    The work for a single thread.\n",
    "    # todo\n",
    "    \"\"\"\n",
    "    thread_count[0] += 1\n",
    "    for page in pages:\n",
    "        url = base + str(page)\n",
    "        req = requests.get(url)\n",
    "        bs = BeautifulSoup(req.text, features='html.parser')\n",
    "        tds = bs.find_all('td', class_='views-field-pw-version-title')\n",
    "        if tds is None:\n",
    "            failed_page_idx.append(page)\n",
    "        for td in tds:\n",
    "            a = td.find('a')\n",
    "            href = a.get('href')\n",
    "            title = a.text.strip()\n",
    "            api_links[href] = title\n",
    "    \n",
    "    thread_count[0] -= 1"
   ],
   "execution_count": null,
   "outputs": []
  },
  {
   "cell_type": "code",
   "metadata": {
    "id": "RI_ufZyLa1mH",
    "tags": []
   },
   "source": [
    "max_thread = 40\n",
    "thread_count = [0]\n",
    "\n",
    "# page = 0\n",
    "# A simple but unsafe way to use multi-threads\n",
    "i = 0\n",
    "length = len(pages_split)\n",
    "while True:\n",
    "    if i >= length:\n",
    "        break\n",
    "    if thread_count[0] < max_thread:\n",
    "        # For each thread, get all API detail links in a page.\n",
    "        t = threading.Thread(target=get_list, args=(thread_count, pages_split[i]))\n",
    "        t.start()\n",
    "        print('Created a new thread. Processing the ', (i + 1), 'th sublist. There are ', length, 'sublists in all.')\n",
    "        i += 1"
   ],
   "execution_count": null,
   "outputs": []
  },
  {
   "cell_type": "code",
   "metadata": {
    "id": "vskl-ejmXd2D",
    "colab": {
     "base_uri": "https://localhost:8080/",
     "height": 34
    },
    "outputId": "476c89de-8a1d-42fe-ac81-6a27327533a6"
   },
   "source": [
    "len(api_links)  # preview"
   ],
   "execution_count": null,
   "outputs": [
    {
     "output_type": "execute_result",
     "data": {
      "text/plain": [
       "23676"
      ]
     },
     "metadata": {
      "tags": []
     },
     "execution_count": 5
    }
   ]
  },
  {
   "cell_type": "code",
   "metadata": {
    "id": "YT0sZwqnuk2l"
   },
   "source": [
    "# Save the links to a text file\n",
    "with open('api_links0909-1.txt', 'w', encoding='utf-8') as file:\n",
    "    for link in api_links:\n",
    "        file.write(link + '\\n')\n"
   ],
   "execution_count": null,
   "outputs": []
  },
  {
   "cell_type": "code",
   "metadata": {
    "id": "ZP_eMTgvTxCG"
   },
   "source": [
    "# Get the detail information of an API\n",
    "def get_api(url, is_dead_api=False):\n",
    "    req_api = requests.get('https://www.programmableweb.com' + url)\n",
    "    bs_api = BeautifulSoup(req_api.text, features='html.parser')\n",
    "    # 找node-header，锁定标题\n",
    "    node_header = bs_api.find('div', class_='node-header')\n",
    "    if node_header is None:\n",
    "        # 失败\n",
    "        failed_api_hrefs.append(url)\n",
    "        print('failed')\n",
    "        return None\n",
    "    title = node_header.find('h1').text.strip()     # title\n",
    "\n",
    "    tags = []   #tags\n",
    "    div_tags = bs_api.find('div', class_='tags')\n",
    "    tags_a = div_tags.find_all('a')\n",
    "    for a in tags_a:\n",
    "        tags.append(a.text.strip())\n",
    "\n",
    "    intro = bs_api.find('div', class_='intro')\n",
    "    description = ''\n",
    "    if intro is None:\n",
    "        # 失败\n",
    "        failed_api_hrefs.append(url)\n",
    "        print('not found intro')\n",
    "    else:\n",
    "        description_div = intro.find('div', class_='api_description')\n",
    "        if description_div is None:\n",
    "            # failed_api_hrefs.append(url)\n",
    "            print('not found description_div')\n",
    "        else:\n",
    "            description = description_div.text.strip()  #description\n",
    "\n",
    "    # 定位版本versions\n",
    "    versions = []\n",
    "    version_field = bs_api.find('div', id='version-details-field')\n",
    "    version_results = version_field.find_all('div', class_='version-result-set')\n",
    "    \n",
    "    # 开始获取版本\n",
    "    for result in version_results:\n",
    "        divs = result.find_all('div')\n",
    "        version_title = ''\n",
    "        version_style = ''\n",
    "        version_status = ''\n",
    "        version_version = ''\n",
    "        version_submit_date = ''\n",
    "        version_link = ''\n",
    "        for div in divs:\n",
    "            # 直接找所有div，根据label去匹配\n",
    "            label = div.find('label')\n",
    "            if label is None:\n",
    "                # 不是我要的div\n",
    "                continue\n",
    "            else:\n",
    "                lt = label.text.strip()\n",
    "                version_info = div.text.strip()\n",
    "                if lt == 'Title:':\n",
    "                    version_title = version_info.split(':')[1]\n",
    "                    # 寻找a标签\n",
    "                    version_a = div.find('a')\n",
    "                    if version_a is None:\n",
    "                        print('not found a tag of this version')\n",
    "                        version_link = 'not found'\n",
    "                    else:\n",
    "                        version_link = version_a.get('href')\n",
    "                elif lt == 'Style:':\n",
    "                    version_style = version_info.split(':')[1]\n",
    "                elif lt == 'Version:':\n",
    "                    version_version = version_info.split(':')[1]\n",
    "                elif lt == 'Status:':\n",
    "                    # 这个没发现什么好的办法，直接取得所有span\n",
    "                    spans = div.find_all('span')\n",
    "                    # 因为0是那个mobile，我不需要，只需要1\n",
    "                    span = spans[1]\n",
    "                    version_status = span.text.strip()\n",
    "                elif lt == 'Submitted:':\n",
    "                    version_submit_date = version_info.split(':')[1]\n",
    "        version = ApiVersion(version_title, version_style, version_status, version_version, version_submit_date, version_link)\n",
    "        versions.append(version)\n",
    "\n",
    "    # 创建API对象\n",
    "    if is_dead_api:\n",
    "        # 是已经dead的API，获得他的changelog，以推算API的死亡日期\n",
    "        # 获得changelogs\n",
    "        changelogs = get_changelogs(url)\n",
    "        deprecated_date = 'Not sure'\n",
    "        if len(changelogs) == 1:\n",
    "            deprecated_date = changelogs[0].split('|')[0]\n",
    "        api = DeadPoolApi(title, tags, description, url, versions, changelogs, deprecated_date)\n",
    "    else:\n",
    "        api = Api(title, tags, description, url, versions)\n",
    "    # apis[url] = api\n",
    "    # print(api.title)\n",
    "    return api\n",
    "\n",
    "def threads_get_api(thread_count, api_list):\n",
    "    thread_count[0] += 1\n",
    "    for url in api_list:\n",
    "        api = get_api(url)\n",
    "        apis.append(api)\n",
    "    thread_count[0] -= 1\n",
    "\n",
    "def threads_get_dead_api(thread_count, api_list):\n",
    "    thread_count[0] += 1\n",
    "    for url in api_list:\n",
    "        api = get_api(url, is_dead_api=True)\n",
    "        apis.append(api)\n",
    "    thread_count[0] -= 1"
   ],
   "execution_count": null,
   "outputs": []
  },
  {
   "cell_type": "code",
   "metadata": {
    "id": "DnZjSQJh0CdW"
   },
   "source": [
    "# 9.9 爬取deadpool的补充，因为需要爬changelog才有可能确定\n",
    "# 现在做两件事：\n",
    "# 1. 爬取API的changelog，有可能会写出\"deadpool\"，然后获取这个log的日期\n",
    "# 2. 爬取API的各个已经不活跃的version的changelog，有可能出现\"deactiveted\"\n",
    "# changelog_map = {}\n",
    "def get_changelogs(url):\n",
    "    changelogs = []\n",
    "    change_req = requests.get('https://www.programmableweb.com' + url + '/changelog')\n",
    "    cbs = BeautifulSoup(change_req.text, features='html.parser')    # changelog beautiful soup\n",
    "    changelog_divs = cbs.find_all('p', class_='changelog_divider')\n",
    "    for changelog_div in changelog_divs:\n",
    "        changelog_text = changelog_div.get_text(\"|\", strip=True)\n",
    "        if 'deadpool' in changelog_text.lower():\n",
    "            print(True)\n",
    "            # 有用的changelog\n",
    "            changelogs.append(changelog_text)\n",
    "    return changelogs\n"
   ],
   "execution_count": null,
   "outputs": []
  },
  {
   "cell_type": "code",
   "metadata": {
    "id": "SuBmFOQGT-Kh",
    "colab": {
     "base_uri": "https://localhost:8080/",
     "height": 236
    },
    "outputId": "032c4328-f389-41a1-ec5f-1dd565bccb77"
   },
   "source": [
    "api_list = list(api_links.keys())\n",
    "\n",
    "api_list1 = api_list[:5000]\n",
    "api_list2 = api_list[5000:10000]\n",
    "api_list3 = api_list[10000:15000]\n",
    "api_list4 = api_list[15000:20000]\n",
    "api_list5 = api_list[20000:]"
   ],
   "execution_count": null,
   "outputs": [
    {
     "output_type": "error",
     "ename": "NameError",
     "evalue": "ignored",
     "traceback": [
      "\u001B[0;31m---------------------------------------------------------------------------\u001B[0m",
      "\u001B[0;31mNameError\u001B[0m                                 Traceback (most recent call last)",
      "\u001B[0;32m<ipython-input-36-71866decf479>\u001B[0m in \u001B[0;36m<module>\u001B[0;34m()\u001B[0m\n\u001B[0;32m----> 1\u001B[0;31m \u001B[0mapi_list\u001B[0m \u001B[0;34m=\u001B[0m \u001B[0mlist\u001B[0m\u001B[0;34m(\u001B[0m\u001B[0mapi_links\u001B[0m\u001B[0;34m.\u001B[0m\u001B[0mkeys\u001B[0m\u001B[0;34m(\u001B[0m\u001B[0;34m)\u001B[0m\u001B[0;34m)\u001B[0m\u001B[0;34m\u001B[0m\u001B[0;34m\u001B[0m\u001B[0m\n\u001B[0m\u001B[1;32m      2\u001B[0m \u001B[0;34m\u001B[0m\u001B[0m\n\u001B[1;32m      3\u001B[0m \u001B[0;31m# api_list1 = api_list[:5000]\u001B[0m\u001B[0;34m\u001B[0m\u001B[0;34m\u001B[0m\u001B[0;34m\u001B[0m\u001B[0m\n\u001B[1;32m      4\u001B[0m \u001B[0;31m# api_list2 = api_list[5000:10000]\u001B[0m\u001B[0;34m\u001B[0m\u001B[0;34m\u001B[0m\u001B[0;34m\u001B[0m\u001B[0m\n\u001B[1;32m      5\u001B[0m \u001B[0;31m# api_list3 = api_list[10000:15000]\u001B[0m\u001B[0;34m\u001B[0m\u001B[0;34m\u001B[0m\u001B[0;34m\u001B[0m\u001B[0m\n",
      "\u001B[0;31mNameError\u001B[0m: name 'api_links' is not defined"
     ]
    }
   ]
  },
  {
   "cell_type": "code",
   "metadata": {
    "id": "7P0ItP_UAAz0"
   },
   "source": [
    "# 写文件\n",
    "with open('file5.txt', 'w', encoding='utf-8') as file2:\n",
    "    for aaa in api_list5:\n",
    "        file2.write(aaa + '\\n')"
   ],
   "execution_count": null,
   "outputs": []
  },
  {
   "cell_type": "code",
   "metadata": {
    "id": "g8AyAzMmV0Tj"
   },
   "source": [
    "# 读文件\n",
    "api_list3 = []\n",
    "with open('file3.txt', 'r', encoding='utf-8') as file:\n",
    "    for line in file:\n",
    "        api_list3.append(line)"
   ],
   "execution_count": null,
   "outputs": []
  },
  {
   "cell_type": "code",
   "metadata": {
    "id": "pNgowV6d2tXD"
   },
   "source": [
    "# api_lists = [api_list1, api_list2, api_list3, api_list4, api_list5]"
   ],
   "execution_count": null,
   "outputs": []
  },
  {
   "cell_type": "code",
   "metadata": {
    "id": "hdUyqOW677VA"
   },
   "source": [
    "# load the five files\n",
    "api_lists = []\n",
    "i = 0\n",
    "for i in range(1, 6):\n",
    "    temp_list = []\n",
    "    with open('file' + str(i) + '.txt', 'r', encoding='utf-8') as file:\n",
    "        for line in file:\n",
    "            temp_list.append(line)\n",
    "    api_lists.append(temp_list)"
   ],
   "execution_count": null,
   "outputs": []
  },
  {
   "cell_type": "code",
   "metadata": {
    "id": "lEFztM5S3Wu8",
    "colab": {
     "base_uri": "https://localhost:8080/",
     "height": 34
    },
    "outputId": "56e21cdf-7da1-4f56-f88b-94802ddc98de"
   },
   "source": [
    "splits = []\n",
    "for al in api_lists:\n",
    "    splits.append(list_split(al, 12))\n",
    "len(splits)"
   ],
   "execution_count": null,
   "outputs": [
    {
     "output_type": "execute_result",
     "data": {
      "text/plain": [
       "5"
      ]
     },
     "metadata": {
      "tags": []
     },
     "execution_count": 9
    }
   ]
  },
  {
   "cell_type": "code",
   "metadata": {
    "id": "206PfiKU4ZUD"
   },
   "source": [
    "max_thread = 80\n",
    "thread_count = [0]\n",
    "\n",
    "apis = []   \n",
    "failed_api_hrefs = []   # empty the failed links\n",
    "threads = []\n",
    "\n",
    "for idx in range(len(splits)):  # idx file index. 0~4(5 files in all)\n",
    "    # better to run the code below manually for 5 times.\n",
    "    now_list = splits[idx]\n",
    "    i = 0\n",
    "    length = len(now_list)\n",
    "    thread_count[0] = 0\n",
    "    while True:\n",
    "        if i >= length:\n",
    "            break\n",
    "        if thread_count[0] <= max_thread:\n",
    "            t = threading.Thread(target=threads_get_api, args=(thread_count, now_list[i]))\n",
    "            threads.append(t)\n",
    "            t.start()\n",
    "            print('Created a new thread. Processing the ', (i + 1), 'th sublist. There are', length, 'sublists in all')\n",
    "            i += 1"
   ],
   "execution_count": null,
   "outputs": []
  },
  {
   "cell_type": "code",
   "metadata": {
    "id": "A-8QE6OMeitB",
    "colab": {
     "base_uri": "https://localhost:8080/",
     "height": 751
    },
    "outputId": "3f5a95dd-6bbd-43a4-d25e-d31b2dbfb6b0"
   },
   "source": [
    "# preview\n",
    "print(json.dumps(obj=apis[:2], default=lambda x : x.__dict__, sort_keys=False, indent=2))"
   ],
   "execution_count": null,
   "outputs": [
    {
     "output_type": "stream",
     "text": [
      "[\n",
      "  {\n",
      "    \"title\": \"Dextro Image Recognition API MASTER RECORD\",\n",
      "    \"tags\": [\n",
      "      \"Photos\",\n",
      "      \"Recognition\"\n",
      "    ],\n",
      "    \"description\": \"Dextro Image Recognition is a service that allows for object recognition in images. Dextro's functionality recognizes objects and the location of objects in images.\\nThe Dextro Image Recognition API allows developers to access and integrate the functionality of Dextro with other applications. Public documentation is not available; interested developers should sign up here for API access: https://www.dextrorobotics.com/signup.\",\n",
      "    \"url\": \"/api/dextro-image-recognition\\n\",\n",
      "    \"versions\": [\n",
      "      {\n",
      "        \"version_title\": \"Dextro Image Recognition REST API\",\n",
      "        \"style\": \"REST\",\n",
      "        \"version\": \"Recommended (active, supported)\",\n",
      "        \"status\": \"N/A\",\n",
      "        \"submit_date\": \"01.15.2013\",\n",
      "        \"version_link\": \"/api/dextro-image-recognition-rest-api\"\n",
      "      }\n",
      "    ]\n",
      "  },\n",
      "  {\n",
      "    \"title\": \"BriteVerify API MASTER RECORD\",\n",
      "    \"tags\": [\n",
      "      \"Email\",\n",
      "      \"Real Time\",\n",
      "      \"Security\",\n",
      "      \"Verification\"\n",
      "    ],\n",
      "    \"description\": \"BriteVerify is an email data verification platform that connects with email domains to perform real time account status verification of email addresses. The API allows developers to integrate the system backend with 3rd party applications. The data elements available for verification are: Name, Email, Postal Address, Phone, IP Address. The API uses RESTful calls and responses are formatted in XML and JSON.\",\n",
      "    \"url\": \"/api/briteverify\\n\",\n",
      "    \"versions\": [\n",
      "      {\n",
      "        \"version_title\": \"BriteVerify REST API\",\n",
      "        \"style\": \"REST\",\n",
      "        \"version\": \"Recommended (active, supported)\",\n",
      "        \"status\": \"N/A\",\n",
      "        \"submit_date\": \"07.06.2011\",\n",
      "        \"version_link\": \"/api/briteverify-rest-api\"\n",
      "      }\n",
      "    ]\n",
      "  }\n",
      "]\n"
     ],
     "name": "stdout"
    }
   ]
  },
  {
   "cell_type": "code",
   "metadata": {
    "id": "czUKEy7A6XUi"
   },
   "source": [
    "# 成功的列表写入文件\n",
    "with open('apilist5-0915-1.txt', 'w', encoding='utf-8') as file1:\n",
    "    file1.write(json.dumps(obj=apis, default=lambda x : x.__dict__, sort_keys=False, indent=2))   "
   ],
   "execution_count": null,
   "outputs": []
  },
  {
   "cell_type": "code",
   "metadata": {
    "id": "wRtCIusZkifA"
   },
   "source": [
    "# 失败的列表（全是链接）写入文件\n",
    "with open('failedapilist5-0915-1.txt', 'w', encoding='utf-8') as file1:\n",
    "    for href in failed_api_hrefs:\n",
    "        file1.write(href)   "
   ],
   "execution_count": null,
   "outputs": []
  },
  {
   "cell_type": "code",
   "metadata": {
    "id": "Ke8FHAdwJy3I",
    "colab": {
     "base_uri": "https://localhost:8080/",
     "height": 71
    },
    "outputId": "caf49655-910f-4d98-fdb1-8cc1aa3c1c3d"
   },
   "source": [
    "# 最后爬一下失败的链接\n",
    "failed_hrefs = []\n",
    "with open('failedapilist1-5.txt', 'r', encoding='utf-8') as failed:\n",
    "    for line in failed:\n",
    "        failed_hrefs.append(line)\n",
    "\n",
    "# preview\n",
    "print(len(failed_hrefs))    # need to be re-crawled\n",
    "print(failed_hrefs[:10])"
   ],
   "execution_count": null,
   "outputs": [
    {
     "output_type": "stream",
     "text": [
      "105\n",
      "['/api/google-url-shortener\\n', '/api/aonaware-dictionary\\n', '/api/salesforce\\n', '/api/change-healthcare\\n', '/api/joinesty\\n', '/api/musicmobs\\n', '/api/strain\\n', '/api/us-yellow-pages\\n', '/api/winecom\\n', '/api/windows-live-gadgets\\n']\n"
     ],
     "name": "stdout"
    }
   ]
  },
  {
   "cell_type": "markdown",
   "metadata": {
    "id": "CQzDUVZVLfEx"
   },
   "source": [
    "# New requirements - Accessibility\n",
    "\n",
    "- Acccess to the Endpoint Address to recognize whether the API is still accessible\n",
    "- Save the status code/accessibility\n",
    "- The Endpoint Address appears in each version's link, so I have to access to every version's URL\n",
    "- Test the versions marked as Active. For those versions which are alreay deactivated will not be tested. \n",
    "\n",
    "## How to decide an API's accessibility\n",
    "- By its versions data\n",
    "    1. For all versions in one API, and look up the status provided by ProgrammableWeb.\n",
    "    2. If all versions are marked as deactivated, this API is a dead API. If not(at least one version is active), it will be marked as active, and further tests will be done.\n",
    "- Further tests: access to its website\n",
    "    1. For all active APIs's versions, access to their Endpoing Address.\n",
    "    2. If none of the websites is accessible, the API will be marked as deactivated, else active.\n",
    "\n",
    "------\n",
    "\n",
    "Note: NOT deactived. IT'S deactivated"
   ]
  },
  {
   "cell_type": "code",
   "metadata": {
    "id": "AUSa5gWUKTSc"
   },
   "source": [
    "# Load the API dataset.\n",
    "with open('apis0915.txt', 'r', encoding='utf-8') as file:\n",
    "    apis_list = json.loads(text)\n",
    "    apis_list = [at for at in apis_list if at is not None]\n",
    "\n",
    "apis_list[:5]   # preview"
   ],
   "execution_count": null,
   "outputs": []
  },
  {
   "cell_type": "code",
   "metadata": {
    "id": "RKD6ZhECoIWV"
   },
   "source": [
    "# Note: This cell is used to filter the APIs which are marked as active in ProgrammableWeb\n",
    "# These active APIs need to be tested more in the below cells.\n",
    "\n",
    "apis = []\n",
    "all_versions = []   # 存储不管是什么API的version，最后用到它的长度\n",
    "active_apis = []    # 标记为活跃的API\n",
    "deactive_apis = []      # 标记为不活跃的API （所有version都是deactivate）\n",
    "for api in apis_list:\n",
    "    versions = []\n",
    "    is_active_api = False   # 后面遍历所有version，如果全部都是deactivate的，那么这个标记就是False\n",
    "    for version in api['versions']:\n",
    "        api_version = ApiVersion('', '', '', '', '', '')\n",
    "        api_version.__dict__ = version\n",
    "        versions.append(api_version)\n",
    "        all_versions.append(api_version)\n",
    "        if api_version.version is not 'Deactivated':\n",
    "            is_active_api = True\n",
    "\n",
    "    aaa = Api(api['title'], api['tags'], api['description'], api['url'], versions)\n",
    "    apis.append(aaa)\n",
    "    if is_active_api:\n",
    "        active_apis.append(aaa)\n",
    "    else:\n",
    "        deactive_apis.append(aaa)"
   ],
   "execution_count": null,
   "outputs": []
  },
  {
   "cell_type": "code",
   "metadata": {
    "id": "1M74t2O80LI-",
    "colab": {
     "base_uri": "https://localhost:8080/",
     "height": 104
    },
    "outputId": "7f01a4d9-ecda-4f2a-954c-24994700e595"
   },
   "source": [
    "# 看看数量\n",
    "print('All apis:', len(apis))\n",
    "print('All versions:', len(all_versions))\n",
    "print('Active apis:', len(active_apis))\n",
    "print('Deactive apis:', len(deactive_apis))"
   ],
   "execution_count": null,
   "outputs": [
    {
     "output_type": "stream",
     "text": [
      "All apis: 21569\n",
      "All versions: 22207\n",
      "Active apis: 21566\n",
      "Deactive apis: 3\n"
     ],
     "name": "stdout"
    }
   ]
  },
  {
   "cell_type": "code",
   "metadata": {
    "tags": [],
    "id": "eDe3mKouKTSf"
   },
   "source": [
    "print(apis[0].json())"
   ],
   "execution_count": null,
   "outputs": []
  },
  {
   "cell_type": "code",
   "metadata": {
    "id": "paAty34kKTSg"
   },
   "source": [
    "actived_versions = {}\n",
    "a_apis = []\n",
    "# version_title->Api\n",
    "i = 0\n",
    "for api_dict in apis:\n",
    "    # 选出非deactived的api和他的version\n",
    "    a_apis.append(api_dict)\n",
    "    versions = api_dict['versions']\n",
    "    for version in versions:\n",
    "        if version['version'] is not 'Deactivated':\n",
    "            actived_versions[version['version_title']] = api_dict\n",
    "    i += 1    \n"
   ],
   "execution_count": null,
   "outputs": []
  },
  {
   "cell_type": "code",
   "metadata": {
    "id": "RNLZlHxiKTSj",
    "colab": {
     "base_uri": "https://localhost:8080/",
     "height": 74
    },
    "outputId": "e9871841-2ed6-4f8b-bd84-513ad8e7a3e2"
   },
   "source": [
    "keys = list(actived_versions.keys())    # keys 就是title列表\n",
    "keys[0].json()"
   ],
   "execution_count": null,
   "outputs": [
    {
     "output_type": "execute_result",
     "data": {
      "application/vnd.google.colaboratory.intrinsic+json": {
       "type": "string"
      },
      "text/plain": [
       "'{\\n  \"version_title\": \"Envato REST API\",\\n  \"style\": \"REST\",\\n  \"version\": \"Recommended (active, supported)\",\\n  \"status\": \"N/A\",\\n  \"submit_date\": \"03.02.2011\",\\n  \"version_link\": \"/api/envato-rest-api\"\\n}'"
      ]
     },
     "metadata": {
      "tags": []
     },
     "execution_count": 66
    }
   ]
  },
  {
   "cell_type": "code",
   "execution_count": null,
   "outputs": [],
   "source": [
    "from data.crawler.data_objects import SimplifiedApi, VersionVisit, VisitStatus"
   ],
   "metadata": {
    "collapsed": false,
    "pycharm": {
     "name": "#%%\n"
    }
   }
  },
  {
   "cell_type": "code",
   "metadata": {
    "id": "Ukaqb5QGN9ID"
   },
   "source": [
    "# 定义多线程爬取versions的方法\n",
    "# 部分API可以按照把版本的名字中的空格修改为短横线作为URL\n",
    "base_url = 'https://www.programmableweb.com'\n",
    "def get_version(version):\n",
    "    # 制作URL\n",
    "    url = base_url + version.version_link\n",
    "    req = requests.get(url)\n",
    "\n",
    "    version_title = version.version_title\n",
    "    version_url = url\n",
    "    visit_status = []\n",
    "    is_accessible = False\n",
    "\n",
    "    from_api_dict = actived_versions[version]\n",
    "    api_title = from_api_dict.title\n",
    "    api_url = from_api_dict.url\n",
    "    from_api = SimplifiedApi(api_title, api_url)\n",
    "    is_endpoint_accessbile = 'Undefined'\n",
    "    is_homepage_accessible = 'Undefined'\n",
    "\n",
    "    if req.status_code == requests.codes.ok:\n",
    "        # 成功的\n",
    "        # 爬取里面的各种a标签\n",
    "        bs = BeautifulSoup(req.text, features='html.parser')\n",
    "        specs = bs.find('div', class_='section specs')\n",
    "        if specs is None:\n",
    "            cannot_find_html_element.append(url)\n",
    "        else:\n",
    "            # 找到了spec的列表\n",
    "            # 获取所有a标签\n",
    "            a_tags = specs.find_all('a')\n",
    "            for a_tag in a_tags:\n",
    "                # 遍历所有a标签，然后找他们的父节点，找到label\n",
    "                # 然后访问这个a标签，记录下访问状态\n",
    "                label = a_tag.parent.parent.find('label')\n",
    "                if label is None:\n",
    "                    print('not found label. URL:', url)\n",
    "                    label_text = 'Undefined'\n",
    "                else:\n",
    "                    label_text = label.text.strip()\n",
    "                a_href = a_tag.get('href')\n",
    "                if 'http' not in a_href:\n",
    "                    # 这个href就不访问了，因为是站内的\n",
    "                    continue\n",
    "\n",
    "                visit_url = a_href\n",
    "                visit_label = label_text\n",
    "                status_code = 0\n",
    "\n",
    "                # 访问a标签\n",
    "                try:\n",
    "                    a_req = requests.get(a_href)\n",
    "                    status_code = a_req.status_code\n",
    "                except:\n",
    "                    status_code = -1\n",
    "\n",
    "                # 这里仅利用 end point 去判断 is accessible or not\n",
    "                if label_text == 'API Endpoint':\n",
    "                    if status_code == 200 or status_code == 429:\n",
    "                        # 只有200才标记为True，否则都是False\n",
    "                        is_accessible = True    # tag it as accessible\n",
    "                        is_endpoint_accessbile = True\n",
    "                    else:\n",
    "                        is_endpoint_accessbile = False\n",
    "                elif 'Portal' in label_text:\n",
    "                    if status_code == 200 or status_code == 429:\n",
    "                        # 只有200才标记为True，否则都是False\n",
    "                        is_homepage_accessible = True\n",
    "                    else:\n",
    "                        is_homepage_accessible = False\n",
    "\n",
    "                \n",
    "                status = VisitStatus(visit_url, visit_label, status_code)\n",
    "                visit_status.append(status)\n",
    "        a_visit = VersionVisit(version_title, version_url, from_api, visit_status, is_accessible, is_endpoint_accessbile, is_homepage_accessible)\n",
    "        # version_visits.append(a_visit)\n",
    "        visited_url.append(version_url)\n",
    "        return a_visit\n",
    "    else:\n",
    "        # 不知道是什么原因失败了，但是很可能是404\n",
    "        failed_version_url.append(url)\n",
    "        print('failed', url)\n",
    "\n",
    "\n",
    "# The work for each thread\n",
    "def threads_get_version_visit(thread_count, version_list):\n",
    "    thread_count[0] += 1\n",
    "    for version in version_list:\n",
    "        a_visit = get_version(version)    # 获取一次访问结果\n",
    "        # 判断是否为None\n",
    "        if a_visit is not None:\n",
    "            version_visits.append(a_visit)\n",
    "    thread_count[0] -= 1"
   ],
   "execution_count": null,
   "outputs": []
  },
  {
   "cell_type": "code",
   "metadata": {
    "id": "r78_x-nEQypr",
    "colab": {
     "base_uri": "https://localhost:8080/",
     "height": 54
    },
    "outputId": "a7009a1c-e606-4953-bab6-64cbec6194b6"
   },
   "source": [
    "# len(keys)   # 22239\n",
    "# 分割列表\n",
    "splits_temp = list_split(keys, 5000)\n",
    "splits = []\n",
    "for list_ in splits_temp:\n",
    "    splits.append(list_split(list_, 8))\n",
    "print(len(splits[0]))"
   ],
   "execution_count": null,
   "outputs": [
    {
     "output_type": "stream",
     "text": [
      "625\n"
     ],
     "name": "stdout"
    }
   ]
  },
  {
   "cell_type": "code",
   "metadata": {
    "tags": [],
    "id": "wyqXlqeXKTSm"
   },
   "source": [
    "# Similar to crawling the API details\n",
    "failed_version_url = []\n",
    "cannot_find_html_element = []\n",
    "version_visits = []\n",
    "available_status = [200, 429]\n",
    "visited_url = []\n",
    "# 多线程爬取\n",
    "max_thread = 60\n",
    "thread_count = [0]\n",
    "\n",
    "# Change this idx number to access to different sublist at different time to prevent ip being banned\n",
    "# When finished one sublist, save as a text file\n",
    "idx = 4\n",
    "now_list = splits[idx]\n",
    "i = 0\n",
    "length = len(now_list)\n",
    "while True:\n",
    "    if i >= length:\n",
    "        break\n",
    "    if thread_count[0] <= max_thread:\n",
    "        t = threading.Thread(target=threads_get_version_visit, args=(thread_count, now_list[i]))\n",
    "        t.start()\n",
    "        print('Created a new thread. Processing the ', (i + 1), 'th sublist. There are', length, 'sublists in all')\n",
    "        i += 1\n",
    "\n",
    "# ensure the list of failed links is empty\n",
    "# ensure the list of failed links is empty\n",
    "# ensure the list of failed links is empty\n",
    "\n",
    "# preivew\n",
    "print(json.dumps(obj=version_visits[:10], default=lambda x : x.__dict__, sort_keys=False, indent=2))\n",
    "\n",
    "# save to file\n",
    "with open('version_status0915-5.txt', 'w', encoding='utf-8') as file:\n",
    "    # json.dump is better\n",
    "    file.write(json.dumps(obj=version_visits, default=lambda x : x.__dict__, sort_keys=False, indent=2))\n"
   ],
   "execution_count": null,
   "outputs": []
  },
  {
   "cell_type": "code",
   "metadata": {
    "id": "Z6rj6JaJc1VH",
    "colab": {
     "base_uri": "https://localhost:8080/",
     "height": 54
    },
    "outputId": "e9364dbb-f4f0-4ccd-e088-46d2138b241a"
   },
   "source": [
    "# accessible versions ratio\n",
    "accessible = 0\n",
    "for vis in version_visits:\n",
    "    for status in vis.visit_status:\n",
    "        if status.visit_label == 'API Portal / Home Page':\n",
    "            if status.status_code == 200 or status.status_code == 429:\n",
    "                accessible += 1\n",
    "            break\n",
    "print(float(accessible) / len(version_visits))"
   ],
   "execution_count": null,
   "outputs": [
    {
     "output_type": "stream",
     "text": [
      "0.536330608537693\n"
     ],
     "name": "stdout"
    }
   ]
  },
  {
   "cell_type": "markdown",
   "metadata": {
    "id": "cgWUaX2mofpW"
   },
   "source": [
    "# Trying visualization\n",
    "\n",
    "分成多个图\n",
    "- 按照version绘图，表示出标记正确的version和标记错误的version以及占比\n",
    "- 按照API绘图，以API的链接作为区分，表示出正确和错误的占比\n",
    "- 分别以可否访问endpoint 和 portal/homepage 作为API是否存活的依据，绘制上面两个图"
   ]
  },
  {
   "cell_type": "code",
   "metadata": {
    "id": "c7osoLV3dMEn"
   },
   "source": [
    "from matplotlib import pyplot as plt"
   ],
   "execution_count": null,
   "outputs": []
  },
  {
   "cell_type": "code",
   "metadata": {
    "id": "H79b91XIocqL",
    "colab": {
     "base_uri": "https://localhost:8080/",
     "height": 120
    },
    "outputId": "bd15c786-6de4-4363-bcf8-748f616b3138"
   },
   "source": [
    "# 读取version_status 文件\n",
    "version_visits = []\n",
    "for i in range(1, 6):\n",
    "    text = ''\n",
    "    with open('version_status0915-' + str(i) + '.txt', 'r', encoding='utf-8') as file:\n",
    "        text = file.read()\n",
    "    # json 解析\n",
    "    version_visits_dicts = json.loads(text)\n",
    "\n",
    "    for visit_dict in version_visits_dicts:\n",
    "        from_api_dict = visit_dict['from_api']\n",
    "        from_api = SimplifiedApi(from_api_dict['api_title'], from_api_dict['url'])\n",
    "        visit_status_list = []\n",
    "        for status in visit_dict['visit_status']:\n",
    "            visit_status_list.append(VisitStatus(status['visit_url'], status['visit_label'], status['status_code']))\n",
    "        version_visits.append(VersionVisit(visit_dict['version_title'], visit_dict['version_url'], from_api, visit_status_list, visit_dict['is_accessible'], visit_dict['is_endpoint_accessbile'], visit_dict['is_homepage_accessible']))"
   ],
   "execution_count": null,
   "outputs": [
    {
     "output_type": "stream",
     "text": [
      "6175036\n",
      "5673184\n",
      "5142386\n",
      "4539876\n",
      "1916781\n"
     ],
     "name": "stdout"
    }
   ]
  },
  {
   "cell_type": "code",
   "metadata": {
    "id": "HpTm3JdgodGc",
    "colab": {
     "base_uri": "https://localhost:8080/",
     "height": 54
    },
    "outputId": "0c9114f6-d85c-463b-de4f-e31ff2072bed"
   },
   "source": [
    "len(version_visits)"
   ],
   "execution_count": null,
   "outputs": [
    {
     "output_type": "execute_result",
     "data": {
      "text/plain": [
       "22055"
      ]
     },
     "metadata": {
      "tags": []
     },
     "execution_count": 20
    }
   ]
  },
  {
   "cell_type": "code",
   "metadata": {
    "id": "AwYepSRewi-a"
   },
   "source": [
    "def is_active_api(api_link):\n",
    "    for api in active_apis:\n",
    "        if api.url == api_link:\n",
    "            return True\n",
    "    return False"
   ],
   "execution_count": null,
   "outputs": []
  },
  {
   "cell_type": "code",
   "metadata": {
    "id": "L2NQ9qpIolDx"
   },
   "source": [
    "def show_pie(version_visits):\n",
    "    # 分成四个图\n",
    "    # 先统计\n",
    "    # 1. 按照 endpoint 统计\n",
    "    # 2. 按照 portal 统计\n",
    "    apis = set()\n",
    "    endpoint_accessible_versions = []\n",
    "    endpoint_accessible_apis = set()\n",
    "    homepage_accessible_versions = []\n",
    "    homepage_accessible_apis = set()\n",
    "    for visit in version_visits:\n",
    "        # 如果是对象\n",
    "        from_api_url = visit.from_api.url.strip()\n",
    "        apis.add(from_api_url)\n",
    "\n",
    "        for status in visit.visit_status:\n",
    "            if status.visit_label == 'API Endpoint':\n",
    "                if status.status_code == 200 or status.status_code == 429:\n",
    "                    endpoint_accessible_versions.append(visit)\n",
    "                    endpoint_accessible_apis.add(from_api_url)      # 这就保证了只要有一个version是可访问的，这个API就作为可访问的\n",
    "            elif status.visit_label == 'API Portal / Home Page':\n",
    "                if status.status_code == 200 or status.status_code == 429:\n",
    "                    homepage_accessible_versions.append(visit)\n",
    "                    homepage_accessible_apis.add(from_api_url)\n",
    "\n",
    "    # 统计完了\n",
    "\n",
    "    # 绘图\n",
    "    version_length = len(version_visits)\n",
    "    api_length = len(apis) + 1951\n",
    "\n",
    "    plt.suptitle(\"Active versions' accessibility\")\n",
    "    p1 = plt.subplot(1, 2, 1)\n",
    "    plt.title('API Endpoint')\n",
    "    endpoint_length = len(endpoint_accessible_versions)\n",
    "    plt.pie(x=[endpoint_length, version_length - endpoint_length], labels=['Accessible', 'Inaccessible'], autopct='%.2f%%')\n",
    "\n",
    "    p2 = plt.subplot(1, 2, 2)\n",
    "    plt.title('API Portal / Home Page')\n",
    "    homepage_length = len(homepage_accessible_versions)\n",
    "    plt.pie(x=[homepage_length, version_length - homepage_length], labels=['Accessible', 'Inaccessible'], autopct='%.2f%%')\n",
    "    plt.show()\n",
    "\n",
    "    plt.suptitle(\"Active APIs' accessibility\")\n",
    "    p3 = plt.subplot(1, 2, 1)\n",
    "    plt.title('API Endpoint')\n",
    "    endpoint_api_length = len(endpoint_accessible_apis)\n",
    "    plt.pie(x=[endpoint_api_length, api_length - endpoint_api_length], labels=['Accessible', 'Inaccessible'], autopct='%.2f%%')\n",
    "\n",
    "    p4 = plt.subplot(1, 2, 2)\n",
    "    plt.title('API Portal / Home Page')\n",
    "    homepage_api_length = len(homepage_accessible_apis)\n",
    "    plt.pie(x=[homepage_api_length, api_length - homepage_api_length], labels=['Accessible', 'Inaccessible'], autopct='%.2f%%')\n",
    "    plt.show()\n",
    "\n",
    "    print('Judged by API Endpoint, ' + str(endpoint_api_length) + ' of ' + str(api_length) + ' in all are active')\n",
    "    print('Judged by API Homepage, ' + str(homepage_api_length) + ' of ' + str(api_length) + ' in all are active')\n"
   ],
   "execution_count": null,
   "outputs": []
  },
  {
   "cell_type": "code",
   "metadata": {
    "id": "iociP3o3uhC7",
    "colab": {
     "base_uri": "https://localhost:8080/",
     "height": 526
    },
    "outputId": "dbdf3faa-6b24-4fb7-c7fd-4363fc66a5ef"
   },
   "source": [
    "show_pie(version_visits)"
   ],
   "execution_count": null,
   "outputs": [
    {
     "output_type": "display_data",
     "data": {
      "image/png": "[encoded data removed]",
      "text/plain": [
       "<Figure size 432x288 with 2 Axes>"
      ]
     },
     "metadata": {
      "tags": []
     }
    },
    {
     "output_type": "display_data",
     "data": {
      "image/png": "[encoded data removed]",
      "text/plain": [
       "<Figure size 432x288 with 2 Axes>"
      ]
     },
     "metadata": {
      "tags": []
     }
    },
    {
     "output_type": "stream",
     "text": [
      "Judged by API Endpoint, 5185 of 23385 in all are active\n",
      "Judged by API Homepage, 14283 of 23385 in all are active\n"
     ],
     "name": "stdout"
    }
   ]
  },
  {
   "cell_type": "code",
   "metadata": {
    "id": "fcs4dB5zvED8"
   },
   "source": [
    "\n"
   ],
   "execution_count": null,
   "outputs": []
  }
 ]
}